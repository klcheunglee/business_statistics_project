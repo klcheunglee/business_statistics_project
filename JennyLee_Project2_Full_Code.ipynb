{
  "nbformat": 4,
  "nbformat_minor": 5,
  "metadata": {
    "kernelspec": {
      "display_name": "Python 3",
      "language": "python",
      "name": "python3"
    },
    "language_info": {
      "codemirror_mode": {
        "name": "ipython",
        "version": 3
      },
      "file_extension": ".py",
      "mimetype": "text/x-python",
      "name": "python",
      "nbconvert_exporter": "python",
      "pygments_lexer": "ipython3",
      "version": "3.8.8"
    },
    "colab": {
      "provenance": [],
      "collapsed_sections": [
        "6970dd99",
        "68f3b2c9"
      ]
    }
  },
  "cells": [
    {
      "cell_type": "markdown",
      "metadata": {
        "id": "6yDxo9u0d9Na"
      },
      "source": [
        "# Project Business Statistics: E-news Express\n",
        "\n",
        "**Marks: 60**"
      ],
      "id": "6yDxo9u0d9Na"
    },
    {
      "cell_type": "markdown",
      "source": [
        "## Business Context\n",
        "\n",
        "The advent of e-news, or electronic news, portals has offered us a great opportunity to quickly get updates on the day-to-day events occurring globally. The information on these portals is retrieved electronically from online databases, processed using a variety of software, and then transmitted to the users. There are multiple advantages of transmitting new electronically, like faster access to the content and the ability to utilize different technologies such as audio, graphics, video, and other interactive elements that are either not being used or aren’t common yet in traditional newspapers.\n",
        "\n",
        "E-news Express, an online news portal, aims to expand its business by acquiring new subscribers. With every visitor to the website taking certain actions based on their interest, the company plans to analyze these actions to understand user interests and determine how to drive better engagement.  The executives at E-news Express are of the opinion that there has been a decline in new monthly subscribers compared to the past year because the current webpage is not designed well enough in terms of the outline & recommended content to keep customers engaged long enough to make a decision to subscribe.\n",
        "\n",
        "[Companies often analyze user responses to two variants of a product to decide which of the two variants is more effective. This experimental technique, known as A/B testing, is used to determine whether a new feature attracts users based on a chosen metric.]\n",
        "\n",
        "\n",
        "## Objective\n",
        "\n",
        "The design team of the company has researched and created a new landing page that has a new outline & more relevant content shown compared to the old page. In order to test the effectiveness of the new landing page in gathering new subscribers, the Data Science team conducted an experiment by randomly selecting 100 users and dividing them equally into two groups. The existing landing page was served to the first group (control group) and the new landing page to the second group (treatment group). Data regarding the interaction of users in both groups with the two versions of the landing page was collected. Being a data scientist in E-news Express, you have been asked to explore the data and perform a statistical analysis (at a significance level of 5%) to determine the effectiveness of the new landing page in gathering new subscribers for the news portal by answering the following questions:\n",
        "\n",
        "1. Do the users spend more time on the new landing page than on the existing landing page?\n",
        "\n",
        "2. Is the conversion rate (the proportion of users who visit the landing page and get converted) for the new page greater than the conversion rate for the old page?\n",
        "\n",
        "3. Does the converted status depend on the preferred language? [Hint: Create a contingency table using the pandas.crosstab() function]\n",
        "\n",
        "4. Is the time spent on the new page the same for the different language users?\n",
        "\n",
        "\n",
        "## Data Dictionary\n",
        "\n",
        "The data contains information regarding the interaction of users in both groups with the two versions of the landing page.\n",
        "\n",
        "1. user_id - Unique user ID of the person visiting the website\n",
        "\n",
        "2. group - Whether the user belongs to the first group (control) or the second group (treatment)\n",
        "\n",
        "3. landing_page - Whether the landing page is new or old\n",
        "\n",
        "4. time_spent_on_the_page - Time (in minutes) spent by the user on the landing page\n",
        "\n",
        "5. converted - Whether the user gets converted to a subscriber of the news portal or not\n",
        "\n",
        "6. language_preferred - Language chosen by the user to view the landing page"
      ],
      "metadata": {
        "id": "mc63-fFnv9pT"
      },
      "id": "mc63-fFnv9pT"
    },
    {
      "cell_type": "code",
      "metadata": {
        "id": "658c5dec"
      },
      "source": [
        "import numpy as np\n",
        "import pandas as pd\n",
        "import matplotlib.pyplot as plt\n",
        "import seaborn as sns\n",
        "import scipy.stats as stats"
      ],
      "id": "658c5dec",
      "execution_count": 51,
      "outputs": []
    },
    {
      "cell_type": "markdown",
      "metadata": {
        "id": "6970dd99"
      },
      "source": [
        "## Reading the Data into a DataFrame"
      ],
      "id": "6970dd99"
    },
    {
      "cell_type": "code",
      "metadata": {
        "id": "d3b95640"
      },
      "source": [
        "df = pd.read_csv('abtest.csv')"
      ],
      "id": "d3b95640",
      "execution_count": 52,
      "outputs": []
    },
    {
      "cell_type": "markdown",
      "metadata": {
        "id": "9d75cfa2"
      },
      "source": [
        "## Explore the dataset and extract insights using Exploratory Data Analysis"
      ],
      "id": "9d75cfa2"
    },
    {
      "cell_type": "markdown",
      "metadata": {
        "id": "27201534"
      },
      "source": [
        "- Data Overview\n",
        "  - Viewing the first and last few rows of the dataset\n",
        "  - Checking the shape of the dataset\n",
        "  - Getting the statistical summary for the variables\n",
        "- Check for missing values\n",
        "- Check for duplicates"
      ],
      "id": "27201534"
    },
    {
      "cell_type": "code",
      "metadata": {
        "id": "e1ad11d4",
        "colab": {
          "base_uri": "https://localhost:8080/",
          "height": 206
        },
        "outputId": "0cc1664c-a28b-4406-d1c2-37cd6896d77f"
      },
      "source": [
        "df.head()"
      ],
      "id": "e1ad11d4",
      "execution_count": 53,
      "outputs": [
        {
          "output_type": "execute_result",
          "data": {
            "text/plain": [
              "   user_id      group landing_page  time_spent_on_the_page converted  \\\n",
              "0   546592    control          old                    3.48        no   \n",
              "1   546468  treatment          new                    7.13       yes   \n",
              "2   546462  treatment          new                    4.40        no   \n",
              "3   546567    control          old                    3.02        no   \n",
              "4   546459  treatment          new                    4.75       yes   \n",
              "\n",
              "  language_preferred  \n",
              "0            Spanish  \n",
              "1            English  \n",
              "2            Spanish  \n",
              "3             French  \n",
              "4            Spanish  "
            ],
            "text/html": [
              "\n",
              "  <div id=\"df-358badb5-2255-4256-b407-c834884635ff\">\n",
              "    <div class=\"colab-df-container\">\n",
              "      <div>\n",
              "<style scoped>\n",
              "    .dataframe tbody tr th:only-of-type {\n",
              "        vertical-align: middle;\n",
              "    }\n",
              "\n",
              "    .dataframe tbody tr th {\n",
              "        vertical-align: top;\n",
              "    }\n",
              "\n",
              "    .dataframe thead th {\n",
              "        text-align: right;\n",
              "    }\n",
              "</style>\n",
              "<table border=\"1\" class=\"dataframe\">\n",
              "  <thead>\n",
              "    <tr style=\"text-align: right;\">\n",
              "      <th></th>\n",
              "      <th>user_id</th>\n",
              "      <th>group</th>\n",
              "      <th>landing_page</th>\n",
              "      <th>time_spent_on_the_page</th>\n",
              "      <th>converted</th>\n",
              "      <th>language_preferred</th>\n",
              "    </tr>\n",
              "  </thead>\n",
              "  <tbody>\n",
              "    <tr>\n",
              "      <th>0</th>\n",
              "      <td>546592</td>\n",
              "      <td>control</td>\n",
              "      <td>old</td>\n",
              "      <td>3.48</td>\n",
              "      <td>no</td>\n",
              "      <td>Spanish</td>\n",
              "    </tr>\n",
              "    <tr>\n",
              "      <th>1</th>\n",
              "      <td>546468</td>\n",
              "      <td>treatment</td>\n",
              "      <td>new</td>\n",
              "      <td>7.13</td>\n",
              "      <td>yes</td>\n",
              "      <td>English</td>\n",
              "    </tr>\n",
              "    <tr>\n",
              "      <th>2</th>\n",
              "      <td>546462</td>\n",
              "      <td>treatment</td>\n",
              "      <td>new</td>\n",
              "      <td>4.40</td>\n",
              "      <td>no</td>\n",
              "      <td>Spanish</td>\n",
              "    </tr>\n",
              "    <tr>\n",
              "      <th>3</th>\n",
              "      <td>546567</td>\n",
              "      <td>control</td>\n",
              "      <td>old</td>\n",
              "      <td>3.02</td>\n",
              "      <td>no</td>\n",
              "      <td>French</td>\n",
              "    </tr>\n",
              "    <tr>\n",
              "      <th>4</th>\n",
              "      <td>546459</td>\n",
              "      <td>treatment</td>\n",
              "      <td>new</td>\n",
              "      <td>4.75</td>\n",
              "      <td>yes</td>\n",
              "      <td>Spanish</td>\n",
              "    </tr>\n",
              "  </tbody>\n",
              "</table>\n",
              "</div>\n",
              "      <button class=\"colab-df-convert\" onclick=\"convertToInteractive('df-358badb5-2255-4256-b407-c834884635ff')\"\n",
              "              title=\"Convert this dataframe to an interactive table.\"\n",
              "              style=\"display:none;\">\n",
              "        \n",
              "  <svg xmlns=\"http://www.w3.org/2000/svg\" height=\"24px\"viewBox=\"0 0 24 24\"\n",
              "       width=\"24px\">\n",
              "    <path d=\"M0 0h24v24H0V0z\" fill=\"none\"/>\n",
              "    <path d=\"M18.56 5.44l.94 2.06.94-2.06 2.06-.94-2.06-.94-.94-2.06-.94 2.06-2.06.94zm-11 1L8.5 8.5l.94-2.06 2.06-.94-2.06-.94L8.5 2.5l-.94 2.06-2.06.94zm10 10l.94 2.06.94-2.06 2.06-.94-2.06-.94-.94-2.06-.94 2.06-2.06.94z\"/><path d=\"M17.41 7.96l-1.37-1.37c-.4-.4-.92-.59-1.43-.59-.52 0-1.04.2-1.43.59L10.3 9.45l-7.72 7.72c-.78.78-.78 2.05 0 2.83L4 21.41c.39.39.9.59 1.41.59.51 0 1.02-.2 1.41-.59l7.78-7.78 2.81-2.81c.8-.78.8-2.07 0-2.86zM5.41 20L4 18.59l7.72-7.72 1.47 1.35L5.41 20z\"/>\n",
              "  </svg>\n",
              "      </button>\n",
              "      \n",
              "  <style>\n",
              "    .colab-df-container {\n",
              "      display:flex;\n",
              "      flex-wrap:wrap;\n",
              "      gap: 12px;\n",
              "    }\n",
              "\n",
              "    .colab-df-convert {\n",
              "      background-color: #E8F0FE;\n",
              "      border: none;\n",
              "      border-radius: 50%;\n",
              "      cursor: pointer;\n",
              "      display: none;\n",
              "      fill: #1967D2;\n",
              "      height: 32px;\n",
              "      padding: 0 0 0 0;\n",
              "      width: 32px;\n",
              "    }\n",
              "\n",
              "    .colab-df-convert:hover {\n",
              "      background-color: #E2EBFA;\n",
              "      box-shadow: 0px 1px 2px rgba(60, 64, 67, 0.3), 0px 1px 3px 1px rgba(60, 64, 67, 0.15);\n",
              "      fill: #174EA6;\n",
              "    }\n",
              "\n",
              "    [theme=dark] .colab-df-convert {\n",
              "      background-color: #3B4455;\n",
              "      fill: #D2E3FC;\n",
              "    }\n",
              "\n",
              "    [theme=dark] .colab-df-convert:hover {\n",
              "      background-color: #434B5C;\n",
              "      box-shadow: 0px 1px 3px 1px rgba(0, 0, 0, 0.15);\n",
              "      filter: drop-shadow(0px 1px 2px rgba(0, 0, 0, 0.3));\n",
              "      fill: #FFFFFF;\n",
              "    }\n",
              "  </style>\n",
              "\n",
              "      <script>\n",
              "        const buttonEl =\n",
              "          document.querySelector('#df-358badb5-2255-4256-b407-c834884635ff button.colab-df-convert');\n",
              "        buttonEl.style.display =\n",
              "          google.colab.kernel.accessAllowed ? 'block' : 'none';\n",
              "\n",
              "        async function convertToInteractive(key) {\n",
              "          const element = document.querySelector('#df-358badb5-2255-4256-b407-c834884635ff');\n",
              "          const dataTable =\n",
              "            await google.colab.kernel.invokeFunction('convertToInteractive',\n",
              "                                                     [key], {});\n",
              "          if (!dataTable) return;\n",
              "\n",
              "          const docLinkHtml = 'Like what you see? Visit the ' +\n",
              "            '<a target=\"_blank\" href=https://colab.research.google.com/notebooks/data_table.ipynb>data table notebook</a>'\n",
              "            + ' to learn more about interactive tables.';\n",
              "          element.innerHTML = '';\n",
              "          dataTable['output_type'] = 'display_data';\n",
              "          await google.colab.output.renderOutput(dataTable, element);\n",
              "          const docLink = document.createElement('div');\n",
              "          docLink.innerHTML = docLinkHtml;\n",
              "          element.appendChild(docLink);\n",
              "        }\n",
              "      </script>\n",
              "    </div>\n",
              "  </div>\n",
              "  "
            ]
          },
          "metadata": {},
          "execution_count": 53
        }
      ]
    },
    {
      "cell_type": "code",
      "source": [
        "df.tail()"
      ],
      "metadata": {
        "colab": {
          "base_uri": "https://localhost:8080/",
          "height": 206
        },
        "id": "EmYuXmNDvZ9-",
        "outputId": "4f291c2c-04dd-42b8-8f7b-40692f36483c"
      },
      "id": "EmYuXmNDvZ9-",
      "execution_count": 54,
      "outputs": [
        {
          "output_type": "execute_result",
          "data": {
            "text/plain": [
              "    user_id      group landing_page  time_spent_on_the_page converted  \\\n",
              "95   546446  treatment          new                    5.15        no   \n",
              "96   546544    control          old                    6.52       yes   \n",
              "97   546472  treatment          new                    7.07       yes   \n",
              "98   546481  treatment          new                    6.20       yes   \n",
              "99   546483  treatment          new                    5.86       yes   \n",
              "\n",
              "   language_preferred  \n",
              "95            Spanish  \n",
              "96            English  \n",
              "97            Spanish  \n",
              "98            Spanish  \n",
              "99            English  "
            ],
            "text/html": [
              "\n",
              "  <div id=\"df-4cee19be-36a4-406c-9f48-ab055c912468\">\n",
              "    <div class=\"colab-df-container\">\n",
              "      <div>\n",
              "<style scoped>\n",
              "    .dataframe tbody tr th:only-of-type {\n",
              "        vertical-align: middle;\n",
              "    }\n",
              "\n",
              "    .dataframe tbody tr th {\n",
              "        vertical-align: top;\n",
              "    }\n",
              "\n",
              "    .dataframe thead th {\n",
              "        text-align: right;\n",
              "    }\n",
              "</style>\n",
              "<table border=\"1\" class=\"dataframe\">\n",
              "  <thead>\n",
              "    <tr style=\"text-align: right;\">\n",
              "      <th></th>\n",
              "      <th>user_id</th>\n",
              "      <th>group</th>\n",
              "      <th>landing_page</th>\n",
              "      <th>time_spent_on_the_page</th>\n",
              "      <th>converted</th>\n",
              "      <th>language_preferred</th>\n",
              "    </tr>\n",
              "  </thead>\n",
              "  <tbody>\n",
              "    <tr>\n",
              "      <th>95</th>\n",
              "      <td>546446</td>\n",
              "      <td>treatment</td>\n",
              "      <td>new</td>\n",
              "      <td>5.15</td>\n",
              "      <td>no</td>\n",
              "      <td>Spanish</td>\n",
              "    </tr>\n",
              "    <tr>\n",
              "      <th>96</th>\n",
              "      <td>546544</td>\n",
              "      <td>control</td>\n",
              "      <td>old</td>\n",
              "      <td>6.52</td>\n",
              "      <td>yes</td>\n",
              "      <td>English</td>\n",
              "    </tr>\n",
              "    <tr>\n",
              "      <th>97</th>\n",
              "      <td>546472</td>\n",
              "      <td>treatment</td>\n",
              "      <td>new</td>\n",
              "      <td>7.07</td>\n",
              "      <td>yes</td>\n",
              "      <td>Spanish</td>\n",
              "    </tr>\n",
              "    <tr>\n",
              "      <th>98</th>\n",
              "      <td>546481</td>\n",
              "      <td>treatment</td>\n",
              "      <td>new</td>\n",
              "      <td>6.20</td>\n",
              "      <td>yes</td>\n",
              "      <td>Spanish</td>\n",
              "    </tr>\n",
              "    <tr>\n",
              "      <th>99</th>\n",
              "      <td>546483</td>\n",
              "      <td>treatment</td>\n",
              "      <td>new</td>\n",
              "      <td>5.86</td>\n",
              "      <td>yes</td>\n",
              "      <td>English</td>\n",
              "    </tr>\n",
              "  </tbody>\n",
              "</table>\n",
              "</div>\n",
              "      <button class=\"colab-df-convert\" onclick=\"convertToInteractive('df-4cee19be-36a4-406c-9f48-ab055c912468')\"\n",
              "              title=\"Convert this dataframe to an interactive table.\"\n",
              "              style=\"display:none;\">\n",
              "        \n",
              "  <svg xmlns=\"http://www.w3.org/2000/svg\" height=\"24px\"viewBox=\"0 0 24 24\"\n",
              "       width=\"24px\">\n",
              "    <path d=\"M0 0h24v24H0V0z\" fill=\"none\"/>\n",
              "    <path d=\"M18.56 5.44l.94 2.06.94-2.06 2.06-.94-2.06-.94-.94-2.06-.94 2.06-2.06.94zm-11 1L8.5 8.5l.94-2.06 2.06-.94-2.06-.94L8.5 2.5l-.94 2.06-2.06.94zm10 10l.94 2.06.94-2.06 2.06-.94-2.06-.94-.94-2.06-.94 2.06-2.06.94z\"/><path d=\"M17.41 7.96l-1.37-1.37c-.4-.4-.92-.59-1.43-.59-.52 0-1.04.2-1.43.59L10.3 9.45l-7.72 7.72c-.78.78-.78 2.05 0 2.83L4 21.41c.39.39.9.59 1.41.59.51 0 1.02-.2 1.41-.59l7.78-7.78 2.81-2.81c.8-.78.8-2.07 0-2.86zM5.41 20L4 18.59l7.72-7.72 1.47 1.35L5.41 20z\"/>\n",
              "  </svg>\n",
              "      </button>\n",
              "      \n",
              "  <style>\n",
              "    .colab-df-container {\n",
              "      display:flex;\n",
              "      flex-wrap:wrap;\n",
              "      gap: 12px;\n",
              "    }\n",
              "\n",
              "    .colab-df-convert {\n",
              "      background-color: #E8F0FE;\n",
              "      border: none;\n",
              "      border-radius: 50%;\n",
              "      cursor: pointer;\n",
              "      display: none;\n",
              "      fill: #1967D2;\n",
              "      height: 32px;\n",
              "      padding: 0 0 0 0;\n",
              "      width: 32px;\n",
              "    }\n",
              "\n",
              "    .colab-df-convert:hover {\n",
              "      background-color: #E2EBFA;\n",
              "      box-shadow: 0px 1px 2px rgba(60, 64, 67, 0.3), 0px 1px 3px 1px rgba(60, 64, 67, 0.15);\n",
              "      fill: #174EA6;\n",
              "    }\n",
              "\n",
              "    [theme=dark] .colab-df-convert {\n",
              "      background-color: #3B4455;\n",
              "      fill: #D2E3FC;\n",
              "    }\n",
              "\n",
              "    [theme=dark] .colab-df-convert:hover {\n",
              "      background-color: #434B5C;\n",
              "      box-shadow: 0px 1px 3px 1px rgba(0, 0, 0, 0.15);\n",
              "      filter: drop-shadow(0px 1px 2px rgba(0, 0, 0, 0.3));\n",
              "      fill: #FFFFFF;\n",
              "    }\n",
              "  </style>\n",
              "\n",
              "      <script>\n",
              "        const buttonEl =\n",
              "          document.querySelector('#df-4cee19be-36a4-406c-9f48-ab055c912468 button.colab-df-convert');\n",
              "        buttonEl.style.display =\n",
              "          google.colab.kernel.accessAllowed ? 'block' : 'none';\n",
              "\n",
              "        async function convertToInteractive(key) {\n",
              "          const element = document.querySelector('#df-4cee19be-36a4-406c-9f48-ab055c912468');\n",
              "          const dataTable =\n",
              "            await google.colab.kernel.invokeFunction('convertToInteractive',\n",
              "                                                     [key], {});\n",
              "          if (!dataTable) return;\n",
              "\n",
              "          const docLinkHtml = 'Like what you see? Visit the ' +\n",
              "            '<a target=\"_blank\" href=https://colab.research.google.com/notebooks/data_table.ipynb>data table notebook</a>'\n",
              "            + ' to learn more about interactive tables.';\n",
              "          element.innerHTML = '';\n",
              "          dataTable['output_type'] = 'display_data';\n",
              "          await google.colab.output.renderOutput(dataTable, element);\n",
              "          const docLink = document.createElement('div');\n",
              "          docLink.innerHTML = docLinkHtml;\n",
              "          element.appendChild(docLink);\n",
              "        }\n",
              "      </script>\n",
              "    </div>\n",
              "  </div>\n",
              "  "
            ]
          },
          "metadata": {},
          "execution_count": 54
        }
      ]
    },
    {
      "cell_type": "code",
      "source": [
        "df.shape"
      ],
      "metadata": {
        "colab": {
          "base_uri": "https://localhost:8080/"
        },
        "id": "XXgVmmmOvd_q",
        "outputId": "43e95969-f591-461e-dc09-aae3656aec7b"
      },
      "id": "XXgVmmmOvd_q",
      "execution_count": 55,
      "outputs": [
        {
          "output_type": "execute_result",
          "data": {
            "text/plain": [
              "(100, 6)"
            ]
          },
          "metadata": {},
          "execution_count": 55
        }
      ]
    },
    {
      "cell_type": "markdown",
      "source": [
        "* There are 100 rows and 6 columns in the dataset."
      ],
      "metadata": {
        "id": "OFx-ONDovgiT"
      },
      "id": "OFx-ONDovgiT"
    },
    {
      "cell_type": "code",
      "source": [
        "df.info()"
      ],
      "metadata": {
        "colab": {
          "base_uri": "https://localhost:8080/"
        },
        "id": "nCi_pXp0wryC",
        "outputId": "e40cb394-5c4e-42fe-d5d2-f593cec41394"
      },
      "id": "nCi_pXp0wryC",
      "execution_count": 56,
      "outputs": [
        {
          "output_type": "stream",
          "name": "stdout",
          "text": [
            "<class 'pandas.core.frame.DataFrame'>\n",
            "RangeIndex: 100 entries, 0 to 99\n",
            "Data columns (total 6 columns):\n",
            " #   Column                  Non-Null Count  Dtype  \n",
            "---  ------                  --------------  -----  \n",
            " 0   user_id                 100 non-null    int64  \n",
            " 1   group                   100 non-null    object \n",
            " 2   landing_page            100 non-null    object \n",
            " 3   time_spent_on_the_page  100 non-null    float64\n",
            " 4   converted               100 non-null    object \n",
            " 5   language_preferred      100 non-null    object \n",
            "dtypes: float64(1), int64(1), object(4)\n",
            "memory usage: 4.8+ KB\n"
          ]
        }
      ]
    },
    {
      "cell_type": "markdown",
      "source": [
        "There are 3 types of data in the dataset:\n",
        "* int64: 'user_id'\n",
        "* float64: 'time_spent_on_the_page'\n",
        "* object: 'group', 'landing_page', 'converted', 'language_preferred'"
      ],
      "metadata": {
        "id": "Okmxc5rhwvAQ"
      },
      "id": "Okmxc5rhwvAQ"
    },
    {
      "cell_type": "code",
      "source": [
        "df['time_spent_on_the_page'].describe()"
      ],
      "metadata": {
        "colab": {
          "base_uri": "https://localhost:8080/"
        },
        "id": "GhU-s7A64Ymc",
        "outputId": "5b147c0e-af87-4dcb-aef5-f377b4bcfed9"
      },
      "id": "GhU-s7A64Ymc",
      "execution_count": 57,
      "outputs": [
        {
          "output_type": "execute_result",
          "data": {
            "text/plain": [
              "count    100.000000\n",
              "mean       5.377800\n",
              "std        2.378166\n",
              "min        0.190000\n",
              "25%        3.880000\n",
              "50%        5.415000\n",
              "75%        7.022500\n",
              "max       10.710000\n",
              "Name: time_spent_on_the_page, dtype: float64"
            ]
          },
          "metadata": {},
          "execution_count": 57
        }
      ]
    },
    {
      "cell_type": "markdown",
      "source": [
        "* In the numerical variable, 'time_spent_on_the_page', the mean is close to the median (50th percentile). It suggests that the data is approximately normally distributed or symmetrically distributed. We will further investigate it through visualization and statistical tests below.\n",
        "*  The IQR (the difference between the 75th and 25th percentile values) is between 3.88 and 7.02. Assuming it is a normal distribution, approximately 68% of the data falls within one standard deviation of the mean. Due to this rule, a standard deviation of 2.378 suggests that approximately 68% of users spent between 3.88 -7.02 minutes on the page, with some spending more or less time.\n",
        "* The minimum value is 0.19, which indicates that there is at least one observation where the user spent only 0.19 minutes on the page.\n",
        "* The maximum value is  10.71, which indicates that there is at least one observation where the user spent as much as 10.71 minutes on the page."
      ],
      "metadata": {
        "id": "Pmvly1EsYDHU"
      },
      "id": "Pmvly1EsYDHU"
    },
    {
      "cell_type": "code",
      "source": [
        "df.describe(include=\"object\").T\n"
      ],
      "metadata": {
        "colab": {
          "base_uri": "https://localhost:8080/",
          "height": 175
        },
        "id": "e8mR_BN_Ox0H",
        "outputId": "8cfb6de5-6b51-42e3-a199-1841cd44ed91"
      },
      "id": "e8mR_BN_Ox0H",
      "execution_count": 58,
      "outputs": [
        {
          "output_type": "execute_result",
          "data": {
            "text/plain": [
              "                   count unique      top freq\n",
              "group                100      2  control   50\n",
              "landing_page         100      2      old   50\n",
              "converted            100      2      yes   54\n",
              "language_preferred   100      3  Spanish   34"
            ],
            "text/html": [
              "\n",
              "  <div id=\"df-48ed5fe7-3c19-4e73-88aa-50c86fbc86d9\">\n",
              "    <div class=\"colab-df-container\">\n",
              "      <div>\n",
              "<style scoped>\n",
              "    .dataframe tbody tr th:only-of-type {\n",
              "        vertical-align: middle;\n",
              "    }\n",
              "\n",
              "    .dataframe tbody tr th {\n",
              "        vertical-align: top;\n",
              "    }\n",
              "\n",
              "    .dataframe thead th {\n",
              "        text-align: right;\n",
              "    }\n",
              "</style>\n",
              "<table border=\"1\" class=\"dataframe\">\n",
              "  <thead>\n",
              "    <tr style=\"text-align: right;\">\n",
              "      <th></th>\n",
              "      <th>count</th>\n",
              "      <th>unique</th>\n",
              "      <th>top</th>\n",
              "      <th>freq</th>\n",
              "    </tr>\n",
              "  </thead>\n",
              "  <tbody>\n",
              "    <tr>\n",
              "      <th>group</th>\n",
              "      <td>100</td>\n",
              "      <td>2</td>\n",
              "      <td>control</td>\n",
              "      <td>50</td>\n",
              "    </tr>\n",
              "    <tr>\n",
              "      <th>landing_page</th>\n",
              "      <td>100</td>\n",
              "      <td>2</td>\n",
              "      <td>old</td>\n",
              "      <td>50</td>\n",
              "    </tr>\n",
              "    <tr>\n",
              "      <th>converted</th>\n",
              "      <td>100</td>\n",
              "      <td>2</td>\n",
              "      <td>yes</td>\n",
              "      <td>54</td>\n",
              "    </tr>\n",
              "    <tr>\n",
              "      <th>language_preferred</th>\n",
              "      <td>100</td>\n",
              "      <td>3</td>\n",
              "      <td>Spanish</td>\n",
              "      <td>34</td>\n",
              "    </tr>\n",
              "  </tbody>\n",
              "</table>\n",
              "</div>\n",
              "      <button class=\"colab-df-convert\" onclick=\"convertToInteractive('df-48ed5fe7-3c19-4e73-88aa-50c86fbc86d9')\"\n",
              "              title=\"Convert this dataframe to an interactive table.\"\n",
              "              style=\"display:none;\">\n",
              "        \n",
              "  <svg xmlns=\"http://www.w3.org/2000/svg\" height=\"24px\"viewBox=\"0 0 24 24\"\n",
              "       width=\"24px\">\n",
              "    <path d=\"M0 0h24v24H0V0z\" fill=\"none\"/>\n",
              "    <path d=\"M18.56 5.44l.94 2.06.94-2.06 2.06-.94-2.06-.94-.94-2.06-.94 2.06-2.06.94zm-11 1L8.5 8.5l.94-2.06 2.06-.94-2.06-.94L8.5 2.5l-.94 2.06-2.06.94zm10 10l.94 2.06.94-2.06 2.06-.94-2.06-.94-.94-2.06-.94 2.06-2.06.94z\"/><path d=\"M17.41 7.96l-1.37-1.37c-.4-.4-.92-.59-1.43-.59-.52 0-1.04.2-1.43.59L10.3 9.45l-7.72 7.72c-.78.78-.78 2.05 0 2.83L4 21.41c.39.39.9.59 1.41.59.51 0 1.02-.2 1.41-.59l7.78-7.78 2.81-2.81c.8-.78.8-2.07 0-2.86zM5.41 20L4 18.59l7.72-7.72 1.47 1.35L5.41 20z\"/>\n",
              "  </svg>\n",
              "      </button>\n",
              "      \n",
              "  <style>\n",
              "    .colab-df-container {\n",
              "      display:flex;\n",
              "      flex-wrap:wrap;\n",
              "      gap: 12px;\n",
              "    }\n",
              "\n",
              "    .colab-df-convert {\n",
              "      background-color: #E8F0FE;\n",
              "      border: none;\n",
              "      border-radius: 50%;\n",
              "      cursor: pointer;\n",
              "      display: none;\n",
              "      fill: #1967D2;\n",
              "      height: 32px;\n",
              "      padding: 0 0 0 0;\n",
              "      width: 32px;\n",
              "    }\n",
              "\n",
              "    .colab-df-convert:hover {\n",
              "      background-color: #E2EBFA;\n",
              "      box-shadow: 0px 1px 2px rgba(60, 64, 67, 0.3), 0px 1px 3px 1px rgba(60, 64, 67, 0.15);\n",
              "      fill: #174EA6;\n",
              "    }\n",
              "\n",
              "    [theme=dark] .colab-df-convert {\n",
              "      background-color: #3B4455;\n",
              "      fill: #D2E3FC;\n",
              "    }\n",
              "\n",
              "    [theme=dark] .colab-df-convert:hover {\n",
              "      background-color: #434B5C;\n",
              "      box-shadow: 0px 1px 3px 1px rgba(0, 0, 0, 0.15);\n",
              "      filter: drop-shadow(0px 1px 2px rgba(0, 0, 0, 0.3));\n",
              "      fill: #FFFFFF;\n",
              "    }\n",
              "  </style>\n",
              "\n",
              "      <script>\n",
              "        const buttonEl =\n",
              "          document.querySelector('#df-48ed5fe7-3c19-4e73-88aa-50c86fbc86d9 button.colab-df-convert');\n",
              "        buttonEl.style.display =\n",
              "          google.colab.kernel.accessAllowed ? 'block' : 'none';\n",
              "\n",
              "        async function convertToInteractive(key) {\n",
              "          const element = document.querySelector('#df-48ed5fe7-3c19-4e73-88aa-50c86fbc86d9');\n",
              "          const dataTable =\n",
              "            await google.colab.kernel.invokeFunction('convertToInteractive',\n",
              "                                                     [key], {});\n",
              "          if (!dataTable) return;\n",
              "\n",
              "          const docLinkHtml = 'Like what you see? Visit the ' +\n",
              "            '<a target=\"_blank\" href=https://colab.research.google.com/notebooks/data_table.ipynb>data table notebook</a>'\n",
              "            + ' to learn more about interactive tables.';\n",
              "          element.innerHTML = '';\n",
              "          dataTable['output_type'] = 'display_data';\n",
              "          await google.colab.output.renderOutput(dataTable, element);\n",
              "          const docLink = document.createElement('div');\n",
              "          docLink.innerHTML = docLinkHtml;\n",
              "          element.appendChild(docLink);\n",
              "        }\n",
              "      </script>\n",
              "    </div>\n",
              "  </div>\n",
              "  "
            ]
          },
          "metadata": {},
          "execution_count": 58
        }
      ]
    },
    {
      "cell_type": "markdown",
      "source": [
        "For the categorical variables, there are 2 unique values in 'group', 'landing_page', 'converted', and 3 unique values in 'langugae_preferred'. We will further investigate them below."
      ],
      "metadata": {
        "id": "tdHGkTSwb3U_"
      },
      "id": "tdHGkTSwb3U_"
    },
    {
      "cell_type": "code",
      "source": [
        "df.isna().sum()\n"
      ],
      "metadata": {
        "colab": {
          "base_uri": "https://localhost:8080/"
        },
        "id": "QjU8SibHPPy6",
        "outputId": "204b348c-121b-4148-dbbf-95176f0d86f7"
      },
      "id": "QjU8SibHPPy6",
      "execution_count": 59,
      "outputs": [
        {
          "output_type": "execute_result",
          "data": {
            "text/plain": [
              "user_id                   0\n",
              "group                     0\n",
              "landing_page              0\n",
              "time_spent_on_the_page    0\n",
              "converted                 0\n",
              "language_preferred        0\n",
              "dtype: int64"
            ]
          },
          "metadata": {},
          "execution_count": 59
        }
      ]
    },
    {
      "cell_type": "markdown",
      "source": [
        "* There is no missing values in the data."
      ],
      "metadata": {
        "id": "H1EHSeT5PRLF"
      },
      "id": "H1EHSeT5PRLF"
    },
    {
      "cell_type": "code",
      "source": [
        "df.duplicated().sum()\n"
      ],
      "metadata": {
        "colab": {
          "base_uri": "https://localhost:8080/"
        },
        "id": "NQ74rO7-Qrdd",
        "outputId": "4edf954d-2ce0-413e-f53b-1a1aaa1be94e"
      },
      "id": "NQ74rO7-Qrdd",
      "execution_count": 60,
      "outputs": [
        {
          "output_type": "execute_result",
          "data": {
            "text/plain": [
              "0"
            ]
          },
          "metadata": {},
          "execution_count": 60
        }
      ]
    },
    {
      "cell_type": "markdown",
      "source": [
        "* There is no duplicated values in the data."
      ],
      "metadata": {
        "id": "GUkkqd6GQs7e"
      },
      "id": "GUkkqd6GQs7e"
    },
    {
      "cell_type": "markdown",
      "metadata": {
        "id": "68f3b2c9"
      },
      "source": [
        "### Univariate Analysis"
      ],
      "id": "68f3b2c9"
    },
    {
      "cell_type": "markdown",
      "source": [
        "#### Observations on 'time spent on the page'"
      ],
      "metadata": {
        "id": "cDXXxhuAccGY"
      },
      "id": "cDXXxhuAccGY"
    },
    {
      "cell_type": "code",
      "source": [
        "# Create a histogram of time_spent_on_the_page with 10 bins and set the color to #e6ac83\n",
        "plt.hist(df['time_spent_on_the_page'], bins=10, color='#e6ac83')\n",
        "\n",
        "# Add labels and title\n",
        "plt.xlabel('Time spent on the page')\n",
        "plt.ylabel('Frequency')\n",
        "plt.title('Histogram of Time Spent on the Page')\n",
        "\n",
        "# Show the plot\n",
        "plt.show()"
      ],
      "metadata": {
        "colab": {
          "base_uri": "https://localhost:8080/",
          "height": 0
        },
        "id": "044NIKYbcdBb",
        "outputId": "50d8aabd-c847-4398-e03b-b3acf6d7f062"
      },
      "id": "044NIKYbcdBb",
      "execution_count": 61,
      "outputs": [
        {
          "output_type": "display_data",
          "data": {
            "text/plain": [
              "<Figure size 640x480 with 1 Axes>"
            ],
            "image/png": "[encoded data removed]"
          },
          "metadata": {}
        }
      ]
    },
    {
      "cell_type": "code",
      "source": [
        "# Create a box plot of time_spent_on_the_page with the box color set to #e6ac83\n",
        "plt.boxplot(df['time_spent_on_the_page'], boxprops=dict(color='#e6ac83'))\n",
        "\n",
        "# Add labels and title\n",
        "plt.ylabel('Minutes')\n",
        "plt.title('Box Plot of Time Spent on the Page')\n",
        "\n",
        "# Show the plot\n",
        "plt.show()"
      ],
      "metadata": {
        "colab": {
          "base_uri": "https://localhost:8080/",
          "height": 0
        },
        "id": "iZ7KCKksdKGl",
        "outputId": "132bba0c-2aa1-4428-fd85-4364ea1dce11"
      },
      "id": "iZ7KCKksdKGl",
      "execution_count": 62,
      "outputs": [
        {
          "output_type": "display_data",
          "data": {
            "text/plain": [
              "<Figure size 640x480 with 1 Axes>"
            ],
            "image/png": "[encoded data removed]"
          },
          "metadata": {}
        }
      ]
    },
    {
      "cell_type": "markdown",
      "source": [
        "From the histogram and boxplot above, we can see that in the 'time_spent_on_the_page' column:\n",
        "* there is no outliers.\n",
        "* it appears to have a roughly symmetric distribution, with most users spending between 3.88 and 7.02 minutes on the page."
      ],
      "metadata": {
        "id": "7h9xV1bGdYWI"
      },
      "id": "7h9xV1bGdYWI"
    },
    {
      "cell_type": "markdown",
      "source": [
        "####Observations on 'group'"
      ],
      "metadata": {
        "id": "IHcE7z5Umz2N"
      },
      "id": "IHcE7z5Umz2N"
    },
    {
      "cell_type": "code",
      "source": [
        "df['group'].value_counts()"
      ],
      "metadata": {
        "colab": {
          "base_uri": "https://localhost:8080/"
        },
        "id": "g9KSCJ90m3fT",
        "outputId": "23fe81e4-57ec-40ea-b0ee-3f7eae76f9f0"
      },
      "id": "g9KSCJ90m3fT",
      "execution_count": 63,
      "outputs": [
        {
          "output_type": "execute_result",
          "data": {
            "text/plain": [
              "control      50\n",
              "treatment    50\n",
              "Name: group, dtype: int64"
            ]
          },
          "metadata": {},
          "execution_count": 63
        }
      ]
    },
    {
      "cell_type": "code",
      "source": [
        "sns.set_style(\"whitegrid\")\n",
        "plt.figure(figsize=(6,4))\n",
        "sns.countplot(data=df, x='group', palette='pastel')\n",
        "plt.title('Count of Users by Group')\n",
        "plt.xlabel('Group')\n",
        "plt.ylabel('Count')\n",
        "plt.show()"
      ],
      "metadata": {
        "colab": {
          "base_uri": "https://localhost:8080/",
          "height": 0
        },
        "id": "gi_0Tzqonf4U",
        "outputId": "ea83e614-61a8-482b-ce83-e9a743669135"
      },
      "id": "gi_0Tzqonf4U",
      "execution_count": 64,
      "outputs": [
        {
          "output_type": "display_data",
          "data": {
            "text/plain": [
              "<Figure size 600x400 with 1 Axes>"
            ],
            "image/png": "[encoded data removed]"
          },
          "metadata": {}
        }
      ]
    },
    {
      "cell_type": "markdown",
      "source": [
        "* The users are divided into two groups: control and treatment. \n",
        "* There are 50 users in the control group and 50 users in the treatment group. \n",
        "* This indicates that the sample has been randomly split into two equal-sized groups, with each group having an equal chance of being assigned to the control or treatment condition. "
      ],
      "metadata": {
        "id": "do4PJzI9m7g0"
      },
      "id": "do4PJzI9m7g0"
    },
    {
      "cell_type": "markdown",
      "source": [
        "#### Observations on 'landing page'"
      ],
      "metadata": {
        "id": "eROhIdEppC-z"
      },
      "id": "eROhIdEppC-z"
    },
    {
      "cell_type": "code",
      "source": [
        "df['landing_page'].value_counts()"
      ],
      "metadata": {
        "colab": {
          "base_uri": "https://localhost:8080/"
        },
        "id": "TUkUpdkypG6k",
        "outputId": "f80592c4-54c9-4ff5-c376-c97efad72b7b"
      },
      "id": "TUkUpdkypG6k",
      "execution_count": 65,
      "outputs": [
        {
          "output_type": "execute_result",
          "data": {
            "text/plain": [
              "old    50\n",
              "new    50\n",
              "Name: landing_page, dtype: int64"
            ]
          },
          "metadata": {},
          "execution_count": 65
        }
      ]
    },
    {
      "cell_type": "code",
      "source": [
        "sns.set_style(\"whitegrid\")\n",
        "plt.figure(figsize=(6,4))\n",
        "sns.countplot(data=df, x='landing_page', palette='pastel')\n",
        "plt.title('Count of Users by Landing Page')\n",
        "plt.xlabel('Landing page')\n",
        "plt.ylabel('Count')\n",
        "plt.show()"
      ],
      "metadata": {
        "colab": {
          "base_uri": "https://localhost:8080/",
          "height": 0
        },
        "id": "Zkwxb3Eap4VJ",
        "outputId": "0ffd6638-92bc-4c02-c2aa-02142bba9726"
      },
      "id": "Zkwxb3Eap4VJ",
      "execution_count": 66,
      "outputs": [
        {
          "output_type": "display_data",
          "data": {
            "text/plain": [
              "<Figure size 600x400 with 1 Axes>"
            ],
            "image/png": "[encoded data removed]"
          },
          "metadata": {}
        }
      ]
    },
    {
      "cell_type": "markdown",
      "source": [
        "* 50 users' landing page is the old (existing) version and 50 users' landing page is the new version.\n",
        "* This indicates that the sample has been randomly split into two equal-sized groups, with each group having an equal chance of being assigned to the old or new landing page."
      ],
      "metadata": {
        "id": "PwZlCWnbvvH6"
      },
      "id": "PwZlCWnbvvH6"
    },
    {
      "cell_type": "markdown",
      "source": [
        "#### Observations on 'converted'"
      ],
      "metadata": {
        "id": "89sy_qmzw7Rh"
      },
      "id": "89sy_qmzw7Rh"
    },
    {
      "cell_type": "code",
      "source": [
        "df['converted'].value_counts()"
      ],
      "metadata": {
        "colab": {
          "base_uri": "https://localhost:8080/"
        },
        "id": "ZGnRaQwwxKWc",
        "outputId": "aa3ddcc4-322a-4960-8a10-fc0283516fe1"
      },
      "id": "ZGnRaQwwxKWc",
      "execution_count": 67,
      "outputs": [
        {
          "output_type": "execute_result",
          "data": {
            "text/plain": [
              "yes    54\n",
              "no     46\n",
              "Name: converted, dtype: int64"
            ]
          },
          "metadata": {},
          "execution_count": 67
        }
      ]
    },
    {
      "cell_type": "code",
      "source": [
        "sns.set_style(\"whitegrid\")\n",
        "plt.figure(figsize=(6,6))\n",
        "ax = sns.countplot(data=df, x='converted', palette='pastel')\n",
        "plt.title('Count of Users by Conversion')\n",
        "plt.xlabel('Conversion')\n",
        "plt.ylabel('Count')\n",
        "\n",
        "for p in ax.patches:\n",
        "    ax.annotate(p.get_height(), (p.get_x() + p.get_width() / 2., p.get_height()),\n",
        "                ha='center', va='center', xytext=(0, 10), textcoords='offset points')\n",
        "\n",
        "plt.show()"
      ],
      "metadata": {
        "colab": {
          "base_uri": "https://localhost:8080/",
          "height": 0
        },
        "id": "RDryEsfqxTuO",
        "outputId": "f387e54a-2609-404d-b7f2-676eed9ef97f"
      },
      "id": "RDryEsfqxTuO",
      "execution_count": 68,
      "outputs": [
        {
          "output_type": "display_data",
          "data": {
            "text/plain": [
              "<Figure size 600x600 with 1 Axes>"
            ],
            "image/png": "[encoded data removed]"
          },
          "metadata": {}
        }
      ]
    },
    {
      "cell_type": "markdown",
      "source": [
        "From the above plot, we see that out of 100 users, 54 of them converted while 46 did not. This implies that the conversion rate is 54% of user gets converted to a subscriber of the news portal."
      ],
      "metadata": {
        "id": "J_241oia0GJG"
      },
      "id": "J_241oia0GJG"
    },
    {
      "cell_type": "markdown",
      "source": [
        "#### Observations on 'language preferred'"
      ],
      "metadata": {
        "id": "YMI1BQBW0WJn"
      },
      "id": "YMI1BQBW0WJn"
    },
    {
      "cell_type": "code",
      "source": [
        "df['language_preferred'].value_counts()"
      ],
      "metadata": {
        "colab": {
          "base_uri": "https://localhost:8080/"
        },
        "id": "DNn4xAJt0fsa",
        "outputId": "81cb6968-b194-488f-b545-88d020571e78"
      },
      "id": "DNn4xAJt0fsa",
      "execution_count": 69,
      "outputs": [
        {
          "output_type": "execute_result",
          "data": {
            "text/plain": [
              "Spanish    34\n",
              "French     34\n",
              "English    32\n",
              "Name: language_preferred, dtype: int64"
            ]
          },
          "metadata": {},
          "execution_count": 69
        }
      ]
    },
    {
      "cell_type": "code",
      "source": [
        "sns.set_style(\"whitegrid\")\n",
        "plt.figure(figsize=(6,6))\n",
        "ax = sns.countplot(data=df, x='language_preferred', palette='pastel')\n",
        "plt.title('Count of Users by Language Preferred')\n",
        "plt.xlabel('Language Preferred')\n",
        "plt.ylabel('Count')\n",
        "\n",
        "for p in ax.patches:\n",
        "    ax.annotate(format(p.get_height(), '.0f'), (p.get_x() + p.get_width() / 2., p.get_height()),\n",
        "                ha='center', va='center', xytext=(0, 10), textcoords='offset points')\n",
        "\n",
        "plt.show()"
      ],
      "metadata": {
        "colab": {
          "base_uri": "https://localhost:8080/",
          "height": 0
        },
        "id": "S97Pcb6w2J5y",
        "outputId": "5e4a7c4f-389b-4393-989b-51b57c02c288"
      },
      "id": "S97Pcb6w2J5y",
      "execution_count": 70,
      "outputs": [
        {
          "output_type": "display_data",
          "data": {
            "text/plain": [
              "<Figure size 600x600 with 1 Axes>"
            ],
            "image/png": "[encoded data removed]"
          },
          "metadata": {}
        }
      ]
    },
    {
      "cell_type": "markdown",
      "source": [
        "* The above plot shows that the users are fairly evenly distributed among the three language options. Three unique values - Spanish, French, and English occurs with a frequency of 34, 34, and 32, respectively. \n",
        "* We will further investigate whether there are any differences in conversion rates or time spent on the page based on language preference. "
      ],
      "metadata": {
        "id": "dmeLRSh83Sqd"
      },
      "id": "dmeLRSh83Sqd"
    },
    {
      "cell_type": "markdown",
      "metadata": {
        "id": "fad2de2f"
      },
      "source": [
        "### Bivariate Analysis"
      ],
      "id": "fad2de2f"
    },
    {
      "cell_type": "markdown",
      "source": [
        "#### Landing page vs Time spent on the page"
      ],
      "metadata": {
        "id": "8siKzacSBMiN"
      },
      "id": "8siKzacSBMiN"
    },
    {
      "cell_type": "code",
      "source": [
        "# Filter the data to include only the 'old' and 'new' landing pages\n",
        "old_lp_data = df[df['landing_page'] == 'old']\n",
        "new_lp_data = df[df['landing_page'] == 'new']\n",
        "\n",
        "# Create a figure and axis object\n",
        "fig, ax = plt.subplots(figsize=(10,6))\n",
        "\n",
        "# Create boxplot data for the 'old' and 'new' landing pages\n",
        "old_boxplot_data = ax.boxplot(old_lp_data['time_spent_on_the_page'], positions=[1], widths=0.6, patch_artist=True, boxprops=dict(facecolor='#B6F6C7'))\n",
        "new_boxplot_data = ax.boxplot(new_lp_data['time_spent_on_the_page'], positions=[2], widths=0.6, patch_artist=True, boxprops=dict(facecolor='#BED9F7'))\n",
        "\n",
        "# Set x-axis and y-axis labels and title\n",
        "ax.set_xlabel('Landing Page')\n",
        "ax.set_ylabel('Time Spent on Page (minutes)')\n",
        "ax.set_title('Time Spent on Landing Page by Page Type')\n",
        "\n",
        "# Create a legend for the boxplot colors\n",
        "ax.legend([old_boxplot_data[\"boxes\"][0], new_boxplot_data[\"boxes\"][0]], ['old', 'new'])\n",
        "\n",
        "# Show the boxplot\n",
        "plt.show()"
      ],
      "metadata": {
        "colab": {
          "base_uri": "https://localhost:8080/",
          "height": 564
        },
        "id": "cQqv8W9PEuZH",
        "outputId": "5f4734e7-10ac-4b7a-9e0d-9a782ff25966"
      },
      "id": "cQqv8W9PEuZH",
      "execution_count": 71,
      "outputs": [
        {
          "output_type": "display_data",
          "data": {
            "text/plain": [
              "<Figure size 1000x600 with 1 Axes>"
            ],
            "image/png": "[encoded data removed]"
          },
          "metadata": {}
        }
      ]
    },
    {
      "cell_type": "markdown",
      "source": [
        "* The median time spent on the new landing page (~ 6 minutes) appears to be more than the median time spent on the old landing page (~ 4 minutes). \n",
        "The 75th percentile of time spent on the new and old landing pages was around 6.4 minutes, meaning that 75% of users spent less than 6.4 minutes on the landing pages.\n",
        "* There are 3 outliers in the new Landing page. We will further investigate these 3 outliers."
      ],
      "metadata": {
        "id": "M1uMktqrDF-5"
      },
      "id": "M1uMktqrDF-5"
    },
    {
      "cell_type": "code",
      "source": [
        "# Filter the data to include only the 'new' landing page\n",
        "new_lp_data = df[df['landing_page'] == 'new']\n",
        "\n",
        "# Calculate quartiles and IQR for the time_spent_on_the_page column in the filtered data\n",
        "q1 = new_lp_data['time_spent_on_the_page'].quantile(0.25)\n",
        "q3 = new_lp_data['time_spent_on_the_page'].quantile(0.75)\n",
        "iqr = q3 - q1\n",
        "\n",
        "# Identify outliers using the IQR rule\n",
        "outliers = new_lp_data[(new_lp_data['time_spent_on_the_page'] < q1 - 1.5*iqr) | (new_lp_data['time_spent_on_the_page'] > q3 + 1.5*iqr)]\n",
        "\n",
        "# Print the outliers\n",
        "print(outliers)"
      ],
      "metadata": {
        "colab": {
          "base_uri": "https://localhost:8080/"
        },
        "id": "oTUnlRKoDeTy",
        "outputId": "44ff8bca-1ea3-4fde-aff5-f438f7270343"
      },
      "id": "oTUnlRKoDeTy",
      "execution_count": 72,
      "outputs": [
        {
          "output_type": "stream",
          "name": "stdout",
          "text": [
            "    user_id      group landing_page  time_spent_on_the_page converted  \\\n",
            "8    546461  treatment          new                   10.71       yes   \n",
            "38   546487  treatment          new                    1.65        no   \n",
            "49   546473  treatment          new                   10.50       yes   \n",
            "\n",
            "   language_preferred  \n",
            "8              French  \n",
            "38            Spanish  \n",
            "49            English  \n"
          ]
        }
      ]
    },
    {
      "cell_type": "markdown",
      "source": [
        "For the 3 outliers:\n",
        "\n",
        "* User ID 546461 and User ID 546473 spent 10.71 minutes and 10.50 minutes repectively on the new landing page and was converted to a subscriber. These users may have found the new landing page interesting or engaging, which led them to spend more time on it and eventually convert.\n",
        "\n",
        "* User ID 546487 spent only 1.65 minutes on the new landing page and was not converted. This user may have found the new landing page uninteresting or unengaging, which led them to spend less time on it and not convert."
      ],
      "metadata": {
        "id": "4CyIwHWVD0K1"
      },
      "id": "4CyIwHWVD0K1"
    },
    {
      "cell_type": "markdown",
      "source": [
        "#### Conversion status vs Time spent on the page"
      ],
      "metadata": {
        "id": "Zc9AFETZIqwD"
      },
      "id": "Zc9AFETZIqwD"
    },
    {
      "cell_type": "code",
      "source": [
        "# Create a figure and axis object\n",
        "fig, ax = plt.subplots(figsize=(10,6))\n",
        "\n",
        "# Create boxplot data for the 'converted' values of 'yes' and 'no'\n",
        "yes_boxplot_data = ax.boxplot(df[df['converted'] == 'yes']['time_spent_on_the_page'], positions=[1], widths=0.6, patch_artist=True, boxprops=dict(facecolor='#B6F6C7'))\n",
        "no_boxplot_data = ax.boxplot(df[df['converted'] == 'no']['time_spent_on_the_page'], positions=[2], widths=0.6, patch_artist=True, boxprops=dict(facecolor='#BED9F7'))\n",
        "\n",
        "# Set x-axis and y-axis labels and title\n",
        "ax.set_xlabel('Converted')\n",
        "ax.set_ylabel('Time Spent on Page (minutes)')\n",
        "ax.set_title('Time Spent on Landing Page by Conversion Status')\n",
        "\n",
        "# Create a legend for the boxplot colors\n",
        "ax.legend([yes_boxplot_data[\"boxes\"][0], no_boxplot_data[\"boxes\"][0]], ['yes', 'no'])\n",
        "\n",
        "# Show the boxplot\n",
        "plt.show()"
      ],
      "metadata": {
        "colab": {
          "base_uri": "https://localhost:8080/",
          "height": 564
        },
        "id": "Cbp3FuObIsg0",
        "outputId": "f2e12c73-f7f7-48b3-b55f-003886eb1c3a"
      },
      "id": "Cbp3FuObIsg0",
      "execution_count": 73,
      "outputs": [
        {
          "output_type": "display_data",
          "data": {
            "text/plain": [
              "<Figure size 1000x600 with 1 Axes>"
            ],
            "image/png": "[encoded data removed]"
          },
          "metadata": {}
        }
      ]
    },
    {
      "cell_type": "markdown",
      "source": [
        "* From the above boxplot, people who spent more time (around 5.5 - 7 minutes) on page tend to be converted. Also, people who spent less time (around 2.3 - 4.5 minutes) on page tend to be not converted. \n",
        "* There are 4 outliers in the 'yes' group and 1 outlier in the 'no' group. We will further investigate them below:"
      ],
      "metadata": {
        "id": "kg40v1kERSU2"
      },
      "id": "kg40v1kERSU2"
    },
    {
      "cell_type": "code",
      "source": [
        "# Identify the converted 'yes' and 'no' groups in the filtered data\n",
        "converted_yes = df[df['converted'] == 'yes']\n",
        "converted_no = df[df['converted'] == 'no']\n",
        "\n",
        "# Calculate quartiles and IQR for the time_spent_on_the_page column in each group\n",
        "q1_yes = converted_yes['time_spent_on_the_page'].quantile(0.25)\n",
        "q3_yes = converted_yes['time_spent_on_the_page'].quantile(0.75)\n",
        "iqr_yes = q3_yes - q1_yes\n",
        "\n",
        "q1_no = converted_no['time_spent_on_the_page'].quantile(0.25)\n",
        "q3_no = converted_no['time_spent_on_the_page'].quantile(0.75)\n",
        "iqr_no = q3_no - q1_no\n",
        "\n",
        "# Identify outliers using the IQR rule in each group\n",
        "outliers_yes = converted_yes[(converted_yes['time_spent_on_the_page'] < q1_yes - 1.5*iqr_yes) | (converted_yes['time_spent_on_the_page'] > q3_yes + 1.5*iqr_yes)]\n",
        "outliers_no = converted_no[(converted_no['time_spent_on_the_page'] < q1_no - 1.5*iqr_no) | (converted_no['time_spent_on_the_page'] > q3_no + 1.5*iqr_no)]\n",
        "\n",
        "# Print the outliers in each group\n",
        "print(\"Outliers in converted 'yes' group:\")\n",
        "print(outliers_yes)\n",
        "\n",
        "print(\"Outliers in converted 'no' group:\")\n",
        "print(outliers_no)"
      ],
      "metadata": {
        "colab": {
          "base_uri": "https://localhost:8080/"
        },
        "id": "ZjF2t_qHNt0F",
        "outputId": "03e62f1c-5f76-4d6f-d5ca-b511a0d073a9"
      },
      "id": "ZjF2t_qHNt0F",
      "execution_count": 74,
      "outputs": [
        {
          "output_type": "stream",
          "name": "stdout",
          "text": [
            "Outliers in converted 'yes' group:\n",
            "    user_id      group landing_page  time_spent_on_the_page converted  \\\n",
            "8    546461  treatment          new                   10.71       yes   \n",
            "11   546546    control          old                    2.58       yes   \n",
            "18   546493    control          old                   10.30       yes   \n",
            "49   546473  treatment          new                   10.50       yes   \n",
            "\n",
            "   language_preferred  \n",
            "8              French  \n",
            "11            English  \n",
            "18            English  \n",
            "49            English  \n",
            "Outliers in converted 'no' group:\n",
            "    user_id    group landing_page  time_spent_on_the_page converted  \\\n",
            "59   546574  control          old                    9.15        no   \n",
            "\n",
            "   language_preferred  \n",
            "59             French  \n"
          ]
        }
      ]
    },
    {
      "cell_type": "markdown",
      "source": [
        "* Regarding the outliers, we can see that in the 'yes' group, one user from the old landing page spent only 2.58 minutes on the page and converted. This is significantly lower than the rest of the 'yes' group, as well as the median time spent on the page for the old landing page. This could indicate that this user had a particularly positive experience or was highly motivated to convert. \n",
        "\n",
        "* In the 'no' group, one user from the old landing page spent 9.15 minutes on the page and did not convert. This is significantly higher than the rest of the 'no' group, as well as the median time spent on the page for the old landing page. This could indicate that this user had a particularly negative experience or was having difficulty navigating the page."
      ],
      "metadata": {
        "id": "7V3XrC5RQOfr"
      },
      "id": "7V3XrC5RQOfr"
    },
    {
      "cell_type": "markdown",
      "source": [
        "#### Language preferred vs Time spent on the page"
      ],
      "metadata": {
        "id": "dfd-g3-oS77T"
      },
      "id": "dfd-g3-oS77T"
    },
    {
      "cell_type": "code",
      "source": [
        "# Create a figure and axis object\n",
        "fig, ax = plt.subplots(figsize=(10,6))\n",
        "\n",
        "# Create boxplot data for each language group\n",
        "en_boxplot_data = ax.boxplot(df[df['language_preferred'] == 'English']['time_spent_on_the_page'], positions=[1], widths=0.6, patch_artist=True, boxprops=dict(facecolor='#B6F6C7'), showfliers=True, showmeans=True)\n",
        "fr_boxplot_data = ax.boxplot(df[df['language_preferred'] == 'French']['time_spent_on_the_page'], positions=[2], widths=0.6, patch_artist=True, boxprops=dict(facecolor='#BED9F7'), showfliers=True, showmeans=True)\n",
        "es_boxplot_data = ax.boxplot(df[df['language_preferred'] == 'Spanish']['time_spent_on_the_page'], positions=[3], widths=0.6, patch_artist=True, boxprops=dict(facecolor='#F8CECC'), showfliers=True, showmeans=True)\n",
        "\n",
        "# Set x-axis and y-axis labels and title\n",
        "ax.set_xlabel('Language Preferred')\n",
        "ax.set_ylabel('Time Spent on Page (minutes)')\n",
        "ax.set_title('Time Spent on Landing Page by Language Preferred')\n",
        "\n",
        "# Create a legend for the boxplot colors\n",
        "ax.legend([en_boxplot_data[\"boxes\"][0], fr_boxplot_data[\"boxes\"][0], es_boxplot_data[\"boxes\"][0]], ['English', 'French', 'Spanish'])\n",
        "\n",
        "# Show the boxplot\n",
        "plt.show()"
      ],
      "metadata": {
        "colab": {
          "base_uri": "https://localhost:8080/",
          "height": 564
        },
        "id": "msBhDGLuS_JT",
        "outputId": "362cb2c3-c874-4d90-8bbc-2ddd9557c78f"
      },
      "id": "msBhDGLuS_JT",
      "execution_count": 75,
      "outputs": [
        {
          "output_type": "display_data",
          "data": {
            "text/plain": [
              "<Figure size 1000x600 with 1 Axes>"
            ],
            "image/png": "[encoded data removed]"
          },
          "metadata": {}
        }
      ]
    },
    {
      "cell_type": "markdown",
      "source": [
        "* From the above plot, we can see that the median time spent on the page for all three language groups (English, French, and Spanish) is relatively similar, with English having the highest median time and French having the lowest median time.\n",
        "\n",
        "* However, there is some variability within each group, as evidenced by the standard deviation. English has the highest standard deviation (2.62), indicating that there is more variability in the time spent on the page for English speakers compared to French and Spanish speakers.\n",
        "\n",
        "* The boxplot also shows that there is one outlier in the Spanish group with a time spent on the page of nearly 0 minutes, which is the lowest time spent on the page among all language groups. Compared to the maximum time spent on the page by users in other language groups, the maximum time spent on the page by Spanish users was the lowest.\n",
        "\n",
        "* In terms of comparison, we can see that the distributions of time spent on the page for each language group are relatively similar, with some overlap in the interquartile ranges. Therefore, we can't conclude that language preference has a significant impact on the time spent on the page. However, we can further investigate this by conducting statistical tests such as ANOVA or t-tests below."
      ],
      "metadata": {
        "id": "LAY8JFPNbdoK"
      },
      "id": "LAY8JFPNbdoK"
    },
    {
      "cell_type": "markdown",
      "metadata": {
        "id": "27906576"
      },
      "source": [
        "## 1. Do the users spend more time on the new landing page than the existing landing page?"
      ],
      "id": "27906576"
    },
    {
      "cell_type": "markdown",
      "metadata": {
        "id": "e5fdf0c8"
      },
      "source": [
        "### Perform Visual Analysis"
      ],
      "id": "e5fdf0c8"
    },
    {
      "cell_type": "code",
      "metadata": {
        "id": "6eZJa41eg21n",
        "colab": {
          "base_uri": "https://localhost:8080/",
          "height": 564
        },
        "outputId": "2abd03fc-261e-4c56-cf3b-697a88625a14"
      },
      "source": [
        "# Filter the data to include only the 'old' and 'new' landing pages\n",
        "old_lp_data = df[df['landing_page'] == 'old']\n",
        "new_lp_data = df[df['landing_page'] == 'new']\n",
        "\n",
        "# Create a figure and axis object\n",
        "fig, ax = plt.subplots(figsize=(10,6))\n",
        "\n",
        "# Create boxplot data for the 'old' and 'new' landing pages\n",
        "old_boxplot_data = ax.boxplot(old_lp_data['time_spent_on_the_page'], positions=[1], widths=0.6, patch_artist=True, boxprops=dict(facecolor='#B6F6C7'))\n",
        "new_boxplot_data = ax.boxplot(new_lp_data['time_spent_on_the_page'], positions=[2], widths=0.6, patch_artist=True, boxprops=dict(facecolor='#BED9F7'))\n",
        "\n",
        "# Set x-axis and y-axis labels and title\n",
        "ax.set_xlabel('Landing Page')\n",
        "ax.set_ylabel('Time Spent on Page (minutes)')\n",
        "ax.set_title('Time Spent on Landing Page by Page Type')\n",
        "\n",
        "# Create a legend for the boxplot colors\n",
        "ax.legend([old_boxplot_data[\"boxes\"][0], new_boxplot_data[\"boxes\"][0]], ['old', 'new'])\n",
        "\n",
        "# Show the boxplot\n",
        "plt.show()"
      ],
      "id": "6eZJa41eg21n",
      "execution_count": 76,
      "outputs": [
        {
          "output_type": "display_data",
          "data": {
            "text/plain": [
              "<Figure size 1000x600 with 1 Axes>"
            ],
            "image/png": "[encoded data removed]"
          },
          "metadata": {}
        }
      ]
    },
    {
      "cell_type": "markdown",
      "source": [
        "The boxplot above suggests that the median time spent on the new landing page is higher than the median time spent on the old landing page. To further investigate this observation, we will conduct a statistical test below."
      ],
      "metadata": {
        "id": "gE3j69ayCEdZ"
      },
      "id": "gE3j69ayCEdZ"
    },
    {
      "cell_type": "markdown",
      "metadata": {
        "id": "56b3dafd"
      },
      "source": [
        "### Step 1: Define the null and alternate hypotheses"
      ],
      "id": "56b3dafd"
    },
    {
      "cell_type": "markdown",
      "metadata": {
        "id": "d2ac77ef"
      },
      "source": [
        "Let $\\mu_1, \\mu_2$ be the the mean time spent on the new landing page and  the mean time spent on the existing landing page respectively.\n",
        "\n",
        "We will test the null hypothesis\n",
        "\n",
        ">$H_0:\\mu_1=\\mu_2$\n",
        "\n",
        "against the alternate hypothesis\n",
        "\n",
        ">$H_a:\\mu_1>\\mu_2$"
      ],
      "id": "d2ac77ef"
    },
    {
      "cell_type": "markdown",
      "metadata": {
        "id": "c7ee4907"
      },
      "source": [
        "### Step 2: Select Appropriate test"
      ],
      "id": "c7ee4907"
    },
    {
      "cell_type": "markdown",
      "source": [
        "This is a one-tailed test concerning two population means from two independent populations. The population standard deviations are unknown. Based on this information, we will use a **Two Independent Sample T-test**. Now, we will use Shapiro-Wilk’s test to check whether the 'time_spent_on_the_page' variable for both the control and treatment groups follows a normal distirbution or not."
      ],
      "metadata": {
        "id": "021Wj7uY8IWP"
      },
      "id": "021Wj7uY8IWP"
    },
    {
      "cell_type": "markdown",
      "source": [
        "### Shapiro-Wilk’s test"
      ],
      "metadata": {
        "id": "WFGHokjZvYR6"
      },
      "id": "WFGHokjZvYR6"
    },
    {
      "cell_type": "markdown",
      "source": [
        "We will test the null hypothesis\n",
        "\n",
        ">$H_0:$ Time spent on the page for control group/ treatment group follows a normal distribution\n",
        "\n",
        "against the alternative hypothesis\n",
        "\n",
        ">$H_a:$ Time spent on the page fro control group/ treatment group does not follow a normal distribution"
      ],
      "metadata": {
        "id": "bvHkwbiKvejO"
      },
      "id": "bvHkwbiKvejO"
    },
    {
      "cell_type": "code",
      "source": [
        "from scipy.stats import shapiro\n",
        "\n",
        "# Subset the data for control group and treatment group\n",
        "control_df = df[df['group'] == 'control']\n",
        "treatment_df = df[df['group'] == 'treatment']\n",
        "\n",
        "# Perform Shapiro-Wilk's test on control group\n",
        "control_sw = shapiro(control_df['time_spent_on_the_page'])\n",
        "print(\"Shapiro-Wilk's test result for control group:\", control_sw)\n",
        "\n",
        "# Perform Shapiro-Wilk's test on treatment group\n",
        "treatment_sw = shapiro(treatment_df['time_spent_on_the_page'])\n",
        "print(\"Shapiro-Wilk's test result for treatment group:\", treatment_sw)\n"
      ],
      "metadata": {
        "colab": {
          "base_uri": "https://localhost:8080/"
        },
        "id": "C64hsz6mu1qr",
        "outputId": "8e3fe7a6-5cf1-4d1f-c31d-781e7d32d855"
      },
      "id": "C64hsz6mu1qr",
      "execution_count": 77,
      "outputs": [
        {
          "output_type": "stream",
          "name": "stdout",
          "text": [
            "Shapiro-Wilk's test result for control group: ShapiroResult(statistic=0.9776089191436768, pvalue=0.45611920952796936)\n",
            "Shapiro-Wilk's test result for treatment group: ShapiroResult(statistic=0.9857664704322815, pvalue=0.8040016293525696)\n"
          ]
        }
      ]
    },
    {
      "cell_type": "markdown",
      "source": [
        "Since p-value (~0.456 and ~0.804) of the test is much greater than the level of significance ($\\alpha = 0.05$), we **fail to reject the null hypothesis** that the response follows the normal distribution. Therefore, we can conclude that the time_spent_on_the_page variable for both the control and treatment groups **follow a normal distribution**."
      ],
      "metadata": {
        "id": "pMnPp0P3wEyh"
      },
      "id": "pMnPp0P3wEyh"
    },
    {
      "cell_type": "markdown",
      "source": [
        "### Let's test whether the T-test assumptions are satisfied or not\n",
        "\n",
        "* Continuous data - Yes, the time spending on the page is measured on a continuous scale.\n",
        "* Normally distributed populations - Yes, we proved that the time_spent_on_the_page variable for both the control and treatment groups follow a normal distribution via Shapiro-Wilk’s test.\n",
        "* Independent populations - As we are taking random samples for two different groups, the two samples are from two independent populations.\n",
        "* Unequal population standard deviations - As the sample standard deviations are different, the population standard deviations may be assumed to be different. (We prove that the standard deviations of samples are different in the step 4 below)\n",
        "* Random sampling from the population - Yes, the Data Science team randomly selected 100 users as simple random samples.\n",
        "\n",
        "We can use **two Independent Sample T-test** for this problem."
      ],
      "metadata": {
        "id": "xZZ9hkqjC4hI"
      },
      "id": "xZZ9hkqjC4hI"
    },
    {
      "cell_type": "markdown",
      "metadata": {
        "id": "3f58c9a7"
      },
      "source": [
        "### Step 3: Decide the significance level"
      ],
      "id": "3f58c9a7"
    },
    {
      "cell_type": "markdown",
      "metadata": {
        "id": "92d7d7ee"
      },
      "source": [
        "As given in the problem statement, we select $\\alpha = 0.05$."
      ],
      "id": "92d7d7ee"
    },
    {
      "cell_type": "markdown",
      "metadata": {
        "id": "5fed2eac"
      },
      "source": [
        "### Step 4: Collect and prepare data"
      ],
      "id": "5fed2eac"
    },
    {
      "cell_type": "code",
      "metadata": {
        "id": "f5a59495"
      },
      "source": [
        "# create subsetted data frame for new landing page users \n",
        "time_spent_new = df[df['landing_page'] == 'new']['time_spent_on_the_page']\n",
        "\n",
        "# create subsetted data frame for old landing page users\n",
        "time_spent_old = df[df['landing_page'] == 'old']['time_spent_on_the_page']"
      ],
      "id": "f5a59495",
      "execution_count": 78,
      "outputs": []
    },
    {
      "cell_type": "code",
      "source": [
        "print('The sample standard deviation of the time spent on the new page is:', round(time_spent_new.std(),2))\n",
        "print('The sample standard deviation of the time spent on the new page is:', round(time_spent_old.std(),2))"
      ],
      "metadata": {
        "colab": {
          "base_uri": "https://localhost:8080/"
        },
        "id": "QwsZ7DlL93JC",
        "outputId": "cccc27b7-b1b0-4e5e-e0cd-6a4ecef73005"
      },
      "id": "QwsZ7DlL93JC",
      "execution_count": 79,
      "outputs": [
        {
          "output_type": "stream",
          "name": "stdout",
          "text": [
            "The sample standard deviation of the time spent on the new page is: 1.82\n",
            "The sample standard deviation of the time spent on the new page is: 2.58\n"
          ]
        }
      ]
    },
    {
      "cell_type": "markdown",
      "source": [
        "As the result shows that there is a significant difference of standard deviation of time spent between the new and old landing pages, we will use a **two Independent Sample T-test for Equality of Means - Unequal Std Dev** to test."
      ],
      "metadata": {
        "id": "XJKnUo5e9W3v"
      },
      "id": "XJKnUo5e9W3v"
    },
    {
      "cell_type": "markdown",
      "metadata": {
        "id": "f5c5258d"
      },
      "source": [
        "### Step 5: Calculate the p-value"
      ],
      "id": "f5c5258d"
    },
    {
      "cell_type": "code",
      "metadata": {
        "id": "fac8594a",
        "colab": {
          "base_uri": "https://localhost:8080/"
        },
        "outputId": "c88870d5-199e-4d3a-bc99-78af6e23020e"
      },
      "source": [
        "from scipy.stats import ttest_ind\n",
        "\n",
        "# calculate the p-value\n",
        "test_stat, p_value =  ttest_ind(time_spent_new, time_spent_old, equal_var = False, alternative = 'greater') \n",
        "\n",
        "print('The p-value is', p_value)"
      ],
      "id": "fac8594a",
      "execution_count": 80,
      "outputs": [
        {
          "output_type": "stream",
          "name": "stdout",
          "text": [
            "The p-value is 0.0001392381225166549\n"
          ]
        }
      ]
    },
    {
      "cell_type": "markdown",
      "metadata": {
        "id": "359b12f8"
      },
      "source": [
        "### Step 6: Compare the p-value with $\\alpha$"
      ],
      "id": "359b12f8"
    },
    {
      "cell_type": "code",
      "metadata": {
        "id": "7be47289",
        "colab": {
          "base_uri": "https://localhost:8080/"
        },
        "outputId": "ea8e7e52-9acb-4572-857b-cc0f2ffcfcff"
      },
      "source": [
        "# print the conclusion based on p-value\n",
        "if p_value < 0.05:\n",
        "    print(f'As the p-value {p_value} is less than the level of significance, we reject the null hypothesis.')\n",
        "else:\n",
        "    print(f'As the p-value {p_value} is greater than the level of significance, we fail to reject the null hypothesis.')"
      ],
      "id": "7be47289",
      "execution_count": 81,
      "outputs": [
        {
          "output_type": "stream",
          "name": "stdout",
          "text": [
            "As the p-value 0.0001392381225166549 is less than the level of significance, we reject the null hypothesis.\n"
          ]
        }
      ]
    },
    {
      "cell_type": "markdown",
      "metadata": {
        "id": "d9affc84"
      },
      "source": [
        "### Step 7:  Draw inference"
      ],
      "id": "d9affc84"
    },
    {
      "cell_type": "markdown",
      "metadata": {
        "id": "6b16dd4b"
      },
      "source": [
        "As the p-value (~0.00013) is much less than the level of significance ($\\alpha = 0.05$), we can **reject the null hypothesis**. Hence, we do have enough evidence to support the claim that **users spend more time on the new landing page than the existing landing page**."
      ],
      "id": "6b16dd4b"
    },
    {
      "cell_type": "markdown",
      "metadata": {
        "id": "353e9d24"
      },
      "source": [
        "## 2. Is the conversion rate (the proportion of users who visit the landing page and get converted) for the new page greater than the conversion rate for the old page?"
      ],
      "id": "353e9d24"
    },
    {
      "cell_type": "markdown",
      "source": [
        "### Perform Visual Analysis"
      ],
      "metadata": {
        "id": "4LL0kpozI7Ok"
      },
      "id": "4LL0kpozI7Ok"
    },
    {
      "cell_type": "code",
      "metadata": {
        "id": "b7f52898",
        "colab": {
          "base_uri": "https://localhost:8080/",
          "height": 711
        },
        "outputId": "d0ff83b6-581e-46ba-cef9-17ec3a5268c3"
      },
      "source": [
        "# create the crosstab and plot the bar chart\n",
        "ct = pd.crosstab(df['landing_page'], df['converted'], normalize='index')\n",
        "ct.plot(kind='bar', figsize=(6,8), stacked=True, color=['#ccf5ff', '#FFC0CB'])\n",
        "\n",
        "# add legend and show the plot\n",
        "plt.legend(title='Converted', loc='upper right')\n",
        "plt.show()"
      ],
      "id": "b7f52898",
      "execution_count": 82,
      "outputs": [
        {
          "output_type": "display_data",
          "data": {
            "text/plain": [
              "<Figure size 600x800 with 1 Axes>"
            ],
            "image/png": "[encoded data removed]"
          },
          "metadata": {}
        }
      ]
    },
    {
      "cell_type": "markdown",
      "source": [
        "Based on the bar chart, it appears that the number of converted users for the new landing page is higher than that for the old landing page. To confirm this, we will perform further testing below."
      ],
      "metadata": {
        "id": "YDPlLXF5CiU5"
      },
      "id": "YDPlLXF5CiU5"
    },
    {
      "cell_type": "code",
      "source": [
        "df.groupby(['landing_page', 'converted']).size()"
      ],
      "metadata": {
        "colab": {
          "base_uri": "https://localhost:8080/"
        },
        "id": "HkxE2GYyLRMd",
        "outputId": "c94c29e8-217c-4cc5-86f5-81d2cbd5e1e6"
      },
      "id": "HkxE2GYyLRMd",
      "execution_count": 83,
      "outputs": [
        {
          "output_type": "execute_result",
          "data": {
            "text/plain": [
              "landing_page  converted\n",
              "new           no           17\n",
              "              yes          33\n",
              "old           no           29\n",
              "              yes          21\n",
              "dtype: int64"
            ]
          },
          "metadata": {},
          "execution_count": 83
        }
      ]
    },
    {
      "cell_type": "markdown",
      "source": [
        "### Step 1: Define the null and alternate hypotheses"
      ],
      "metadata": {
        "id": "JUIoBD2vI-xv"
      },
      "id": "JUIoBD2vI-xv"
    },
    {
      "cell_type": "markdown",
      "source": [
        "<p>Let $p_1$ and $p_2$ be the proportions of users who visit the new landing page and get converted, and the proportions of users who visit the old landing page and get converted, respectively.</p>\n",
        "\n",
        "<p>We will test the null hypothesis:</p>\n",
        "\n",
        "$$H_0: p_1 \\leq p_2$$\n",
        "\n",
        "<p>against the alternative hypothesis:</p>\n",
        "\n",
        "$$H_a: p_1 > p_2$$\n",
        "\n",
        "<p>where $p_1$ represents the conversion rate for the new landing page and $p_2$ represents the conversion rate for the old landing page.</p>\n",
        "\n",
        "<p>We will use hypothesis testing to determine whether there is sufficient evidence to reject the null hypothesis and accept the alternative hypothesis.</p>\n"
      ],
      "metadata": {
        "id": "lJf2gwzKGgfp"
      },
      "id": "lJf2gwzKGgfp"
    },
    {
      "cell_type": "markdown",
      "source": [
        "### Step 2: Select Appropriate test"
      ],
      "metadata": {
        "id": "4zmXs8nAJCET"
      },
      "id": "4zmXs8nAJCET"
    },
    {
      "cell_type": "markdown",
      "source": [
        "This is a one-tailed test concerning two population proportions from two independent populations. **Based on this information, we will use a Two Proportion Z-test."
      ],
      "metadata": {
        "id": "0diN-8uUI2zu"
      },
      "id": "0diN-8uUI2zu"
    },
    {
      "cell_type": "markdown",
      "source": [
        "### Let's test whether the Z-test assumptions are satisfied or not\n",
        "\n",
        "*   Binomally distributed population - Yes, a user is either converted or not converted.\n",
        "*   Random sampling from the population - Yes, we are informed that the collected sample is a simple random sample.  \n",
        "*   Can the binomial distribution approximated to normal distribution - Yes. For binary data, CLT works slower than usual. The standard thing is to check whether np and n(1-p) are greater than or equal to 10. Here, n and p refer to the sample size and sample proportion respectively.\n",
        ">$np_1 = 50\\cdot \\frac{33}{50} =33 \\geq 10\\\\\n",
        "n(1-p_1) = 50 \\cdot \\frac{50-33}{50} =17 \\geq 10 \\\\\n",
        "np_2 = 50\\cdot \\frac{21}{50} =21 \\geq 10\\\\\n",
        "n(1-p_2) = 50 \\cdot \\frac{50-21}{50} =29 \\geq 10 $"
      ],
      "metadata": {
        "id": "QyBFkvh5Kvgb"
      },
      "id": "QyBFkvh5Kvgb"
    },
    {
      "cell_type": "markdown",
      "source": [
        "### Step 3: Decide the significance level"
      ],
      "metadata": {
        "id": "r7LlKs0nMmSB"
      },
      "id": "r7LlKs0nMmSB"
    },
    {
      "cell_type": "markdown",
      "source": [
        "As given in the problem statement, we select α = 0.05."
      ],
      "metadata": {
        "id": "SmutwzyHMo_m"
      },
      "id": "SmutwzyHMo_m"
    },
    {
      "cell_type": "markdown",
      "source": [
        "### Step 4: Collect and prepare data"
      ],
      "metadata": {
        "id": "-AQIA8jSMptE"
      },
      "id": "-AQIA8jSMptE"
    },
    {
      "cell_type": "code",
      "source": [
        "# Create an array of converted user counts for old and new pages\n",
        "converted_counts = np.array([len(df.loc[(df.landing_page == 'old') & (df.converted == 'yes')]), \n",
        "                            len(df.loc[(df.landing_page == 'new') & (df.converted == 'yes')])])\n",
        "\n",
        "# Create and array of sample sizes - we know sample sizes from problem statement\n",
        "sample_sizes = np.array([50, 50])"
      ],
      "metadata": {
        "id": "hCu88T3rMt6c"
      },
      "id": "hCu88T3rMt6c",
      "execution_count": 84,
      "outputs": []
    },
    {
      "cell_type": "markdown",
      "source": [
        "### Step 5: Calculate the p-value"
      ],
      "metadata": {
        "id": "Q5Cy7DncM2bx"
      },
      "id": "Q5Cy7DncM2bx"
    },
    {
      "cell_type": "code",
      "source": [
        "# Import proportions_ztest() function from statsmodels.stats.proportion library\n",
        "from statsmodels.stats.proportion import proportions_ztest\n",
        "\n",
        "# Calculate p-value using ttest_ind()\n",
        "test_stat, p_value = proportions_ztest(converted_counts, sample_sizes)\n",
        "\n",
        "print('The p-value is found to be', p_value) # print p-value"
      ],
      "metadata": {
        "colab": {
          "base_uri": "https://localhost:8080/"
        },
        "id": "EaFa9YEsM46p",
        "outputId": "2882cfd5-060c-46d6-efc9-254ba6d0eee9"
      },
      "id": "EaFa9YEsM46p",
      "execution_count": 85,
      "outputs": [
        {
          "output_type": "stream",
          "name": "stdout",
          "text": [
            "The p-value is found to be 0.016052616408112556\n"
          ]
        }
      ]
    },
    {
      "cell_type": "markdown",
      "source": [
        "### Step 6: Compare the p-value with $\\alpha$"
      ],
      "metadata": {
        "id": "x4QcTXf4NQza"
      },
      "id": "x4QcTXf4NQza"
    },
    {
      "cell_type": "code",
      "source": [
        "# print the conclusion based on p-value\n",
        "if p_value < 0.05:\n",
        "    print(f'As the p-value {p_value} is less than the level of significance, we reject the null hypothesis.')\n",
        "else:\n",
        "    print(f'As the p-value {p_value} is greater than the level of significance, we fail to reject the null hypothesis.')"
      ],
      "metadata": {
        "colab": {
          "base_uri": "https://localhost:8080/"
        },
        "id": "eoDEkTsqNS5k",
        "outputId": "a0f8519f-733a-40cf-de08-3df74a6d9c6c"
      },
      "id": "eoDEkTsqNS5k",
      "execution_count": 86,
      "outputs": [
        {
          "output_type": "stream",
          "name": "stdout",
          "text": [
            "As the p-value 0.016052616408112556 is less than the level of significance, we reject the null hypothesis.\n"
          ]
        }
      ]
    },
    {
      "cell_type": "markdown",
      "source": [
        "### Step 7:  Draw inference"
      ],
      "metadata": {
        "id": "zNhO_OecNWdK"
      },
      "id": "zNhO_OecNWdK"
    },
    {
      "cell_type": "markdown",
      "source": [
        "As the p-value (~0.016) is less than the level of significance ($\\alpha = 0.05$), we can **reject the null hypothesis**. Hence, we do have enough evidence to support the claim that **the conversion rate for the new page is greater than the conversion rate for the old page**."
      ],
      "metadata": {
        "id": "8YmM4pHWNX16"
      },
      "id": "8YmM4pHWNX16"
    },
    {
      "cell_type": "markdown",
      "metadata": {
        "id": "d49bfa2d"
      },
      "source": [
        "## 3. Is the conversion and preferred language are independent or related?"
      ],
      "id": "d49bfa2d"
    },
    {
      "cell_type": "markdown",
      "source": [
        "### Perform Visual Analysis"
      ],
      "metadata": {
        "id": "MC_WyUzoPEOd"
      },
      "id": "MC_WyUzoPEOd"
    },
    {
      "cell_type": "code",
      "metadata": {
        "id": "b0e63f17",
        "colab": {
          "base_uri": "https://localhost:8080/",
          "height": 706
        },
        "outputId": "e64d1358-d475-4ac6-8596-0800961a4f11"
      },
      "source": [
        "pd.crosstab(df['converted'], df['language_preferred'], normalize='index').plot(kind=\"bar\", figsize=(6,8), stacked=True, color=['#ccf5ff', '#FFC0CB', '#ccffee'])\n",
        "plt.legend()\n",
        "plt.show()"
      ],
      "id": "b0e63f17",
      "execution_count": 87,
      "outputs": [
        {
          "output_type": "display_data",
          "data": {
            "text/plain": [
              "<Figure size 600x800 with 1 Axes>"
            ],
            "image/png": "[encoded data removed]"
          },
          "metadata": {}
        }
      ]
    },
    {
      "cell_type": "markdown",
      "source": [
        "Based on the above bar chart, it seems that the conversion rate for French users is relatively lower compared to users of other languages. To confirm this observation, we will conduct further statistical tests."
      ],
      "metadata": {
        "id": "7uBpnMfIDGNe"
      },
      "id": "7uBpnMfIDGNe"
    },
    {
      "cell_type": "markdown",
      "source": [
        "### Step 1: Define the null and alternate hypotheses"
      ],
      "metadata": {
        "id": "SB_cLlgEPWNL"
      },
      "id": "SB_cLlgEPWNL"
    },
    {
      "cell_type": "markdown",
      "source": [
        "\n",
        "The null hypothesis for testing the independence of conversion status and preferred language would be:\n",
        "\n",
        "$H_0:$ Conversion status and preferred language are independent\n",
        "\n",
        "The alternate hypothesis would be:\n",
        "\n",
        "$H_a:$ Conversion status and preferred language are not independent"
      ],
      "metadata": {
        "id": "Di8-8YURQf6b"
      },
      "id": "Di8-8YURQf6b"
    },
    {
      "cell_type": "markdown",
      "source": [
        "### Step 2: Select Appropriate test"
      ],
      "metadata": {
        "id": "zLtmmLMNQnfb"
      },
      "id": "zLtmmLMNQnfb"
    },
    {
      "cell_type": "markdown",
      "source": [
        "This is a problem of the test of independence, concerning two categorical variables - converted status and preferred language. **Based on this information, we will use Chi-Square Test for Independence.**"
      ],
      "metadata": {
        "id": "NJClzIlWQpnW"
      },
      "id": "NJClzIlWQpnW"
    },
    {
      "cell_type": "markdown",
      "source": [
        "#####Let's test whether the assumptions are satisfied or not"
      ],
      "metadata": {
        "id": "F9A_KwTkQ9n9"
      },
      "id": "F9A_KwTkQ9n9"
    },
    {
      "cell_type": "markdown",
      "source": [
        "\n",
        "* Categorical variables - Yes\n",
        "* Expected value of the number of sample observations in each level of the variable is at least 5 - Yes, the number of observations in each level is greater than 5.\n",
        "* Random sampling from the population - Yes, the Data Science team randomly selected 100 users as simple random samples.\n",
        "\n",
        "We can use the Chi-square test for independence."
      ],
      "metadata": {
        "id": "HDBs7VI9Q7Us"
      },
      "id": "HDBs7VI9Q7Us"
    },
    {
      "cell_type": "markdown",
      "source": [
        "### Step 3: Decide the significance level"
      ],
      "metadata": {
        "id": "MNGwXIVWRYfL"
      },
      "id": "MNGwXIVWRYfL"
    },
    {
      "cell_type": "markdown",
      "source": [
        "As given in the problem statement, we select α = 0.05."
      ],
      "metadata": {
        "id": "PfqPPR3pUVNm"
      },
      "id": "PfqPPR3pUVNm"
    },
    {
      "cell_type": "markdown",
      "source": [
        "### Step 4: Collect and prepare data"
      ],
      "metadata": {
        "id": "c5BxpbgZU4DV"
      },
      "id": "c5BxpbgZU4DV"
    },
    {
      "cell_type": "code",
      "source": [
        "contingency_table = pd.crosstab(df['converted'], df['language_preferred'])\n",
        "contingency_table"
      ],
      "metadata": {
        "colab": {
          "base_uri": "https://localhost:8080/",
          "height": 143
        },
        "id": "NgcpBB2-U8Jd",
        "outputId": "26daf721-a324-4859-bf4a-63af94243800"
      },
      "id": "NgcpBB2-U8Jd",
      "execution_count": 88,
      "outputs": [
        {
          "output_type": "execute_result",
          "data": {
            "text/plain": [
              "language_preferred  English  French  Spanish\n",
              "converted                                   \n",
              "no                       11      19       16\n",
              "yes                      21      15       18"
            ],
            "text/html": [
              "\n",
              "  <div id=\"df-003221ea-cc8d-4cda-a7b5-638cce29bec6\">\n",
              "    <div class=\"colab-df-container\">\n",
              "      <div>\n",
              "<style scoped>\n",
              "    .dataframe tbody tr th:only-of-type {\n",
              "        vertical-align: middle;\n",
              "    }\n",
              "\n",
              "    .dataframe tbody tr th {\n",
              "        vertical-align: top;\n",
              "    }\n",
              "\n",
              "    .dataframe thead th {\n",
              "        text-align: right;\n",
              "    }\n",
              "</style>\n",
              "<table border=\"1\" class=\"dataframe\">\n",
              "  <thead>\n",
              "    <tr style=\"text-align: right;\">\n",
              "      <th>language_preferred</th>\n",
              "      <th>English</th>\n",
              "      <th>French</th>\n",
              "      <th>Spanish</th>\n",
              "    </tr>\n",
              "    <tr>\n",
              "      <th>converted</th>\n",
              "      <th></th>\n",
              "      <th></th>\n",
              "      <th></th>\n",
              "    </tr>\n",
              "  </thead>\n",
              "  <tbody>\n",
              "    <tr>\n",
              "      <th>no</th>\n",
              "      <td>11</td>\n",
              "      <td>19</td>\n",
              "      <td>16</td>\n",
              "    </tr>\n",
              "    <tr>\n",
              "      <th>yes</th>\n",
              "      <td>21</td>\n",
              "      <td>15</td>\n",
              "      <td>18</td>\n",
              "    </tr>\n",
              "  </tbody>\n",
              "</table>\n",
              "</div>\n",
              "      <button class=\"colab-df-convert\" onclick=\"convertToInteractive('df-003221ea-cc8d-4cda-a7b5-638cce29bec6')\"\n",
              "              title=\"Convert this dataframe to an interactive table.\"\n",
              "              style=\"display:none;\">\n",
              "        \n",
              "  <svg xmlns=\"http://www.w3.org/2000/svg\" height=\"24px\"viewBox=\"0 0 24 24\"\n",
              "       width=\"24px\">\n",
              "    <path d=\"M0 0h24v24H0V0z\" fill=\"none\"/>\n",
              "    <path d=\"M18.56 5.44l.94 2.06.94-2.06 2.06-.94-2.06-.94-.94-2.06-.94 2.06-2.06.94zm-11 1L8.5 8.5l.94-2.06 2.06-.94-2.06-.94L8.5 2.5l-.94 2.06-2.06.94zm10 10l.94 2.06.94-2.06 2.06-.94-2.06-.94-.94-2.06-.94 2.06-2.06.94z\"/><path d=\"M17.41 7.96l-1.37-1.37c-.4-.4-.92-.59-1.43-.59-.52 0-1.04.2-1.43.59L10.3 9.45l-7.72 7.72c-.78.78-.78 2.05 0 2.83L4 21.41c.39.39.9.59 1.41.59.51 0 1.02-.2 1.41-.59l7.78-7.78 2.81-2.81c.8-.78.8-2.07 0-2.86zM5.41 20L4 18.59l7.72-7.72 1.47 1.35L5.41 20z\"/>\n",
              "  </svg>\n",
              "      </button>\n",
              "      \n",
              "  <style>\n",
              "    .colab-df-container {\n",
              "      display:flex;\n",
              "      flex-wrap:wrap;\n",
              "      gap: 12px;\n",
              "    }\n",
              "\n",
              "    .colab-df-convert {\n",
              "      background-color: #E8F0FE;\n",
              "      border: none;\n",
              "      border-radius: 50%;\n",
              "      cursor: pointer;\n",
              "      display: none;\n",
              "      fill: #1967D2;\n",
              "      height: 32px;\n",
              "      padding: 0 0 0 0;\n",
              "      width: 32px;\n",
              "    }\n",
              "\n",
              "    .colab-df-convert:hover {\n",
              "      background-color: #E2EBFA;\n",
              "      box-shadow: 0px 1px 2px rgba(60, 64, 67, 0.3), 0px 1px 3px 1px rgba(60, 64, 67, 0.15);\n",
              "      fill: #174EA6;\n",
              "    }\n",
              "\n",
              "    [theme=dark] .colab-df-convert {\n",
              "      background-color: #3B4455;\n",
              "      fill: #D2E3FC;\n",
              "    }\n",
              "\n",
              "    [theme=dark] .colab-df-convert:hover {\n",
              "      background-color: #434B5C;\n",
              "      box-shadow: 0px 1px 3px 1px rgba(0, 0, 0, 0.15);\n",
              "      filter: drop-shadow(0px 1px 2px rgba(0, 0, 0, 0.3));\n",
              "      fill: #FFFFFF;\n",
              "    }\n",
              "  </style>\n",
              "\n",
              "      <script>\n",
              "        const buttonEl =\n",
              "          document.querySelector('#df-003221ea-cc8d-4cda-a7b5-638cce29bec6 button.colab-df-convert');\n",
              "        buttonEl.style.display =\n",
              "          google.colab.kernel.accessAllowed ? 'block' : 'none';\n",
              "\n",
              "        async function convertToInteractive(key) {\n",
              "          const element = document.querySelector('#df-003221ea-cc8d-4cda-a7b5-638cce29bec6');\n",
              "          const dataTable =\n",
              "            await google.colab.kernel.invokeFunction('convertToInteractive',\n",
              "                                                     [key], {});\n",
              "          if (!dataTable) return;\n",
              "\n",
              "          const docLinkHtml = 'Like what you see? Visit the ' +\n",
              "            '<a target=\"_blank\" href=https://colab.research.google.com/notebooks/data_table.ipynb>data table notebook</a>'\n",
              "            + ' to learn more about interactive tables.';\n",
              "          element.innerHTML = '';\n",
              "          dataTable['output_type'] = 'display_data';\n",
              "          await google.colab.output.renderOutput(dataTable, element);\n",
              "          const docLink = document.createElement('div');\n",
              "          docLink.innerHTML = docLinkHtml;\n",
              "          element.appendChild(docLink);\n",
              "        }\n",
              "      </script>\n",
              "    </div>\n",
              "  </div>\n",
              "  "
            ]
          },
          "metadata": {},
          "execution_count": 88
        }
      ]
    },
    {
      "cell_type": "markdown",
      "source": [
        "### Step 5: Calculate the p-value"
      ],
      "metadata": {
        "id": "hEO_sXrqVEH1"
      },
      "id": "hEO_sXrqVEH1"
    },
    {
      "cell_type": "code",
      "source": [
        "from scipy.stats import chi2_contingency  \n",
        "\n",
        "# calculate the p-value\n",
        "chi2, p_value, dof, exp_freq = chi2_contingency(contingency_table)\n",
        "print('The p-value is', p_value)"
      ],
      "metadata": {
        "colab": {
          "base_uri": "https://localhost:8080/"
        },
        "id": "bViHgJAAVFm1",
        "outputId": "904f64e7-5d39-4378-db2e-7d483aecf49f"
      },
      "id": "bViHgJAAVFm1",
      "execution_count": 89,
      "outputs": [
        {
          "output_type": "stream",
          "name": "stdout",
          "text": [
            "The p-value is 0.21298887487543447\n"
          ]
        }
      ]
    },
    {
      "cell_type": "markdown",
      "source": [
        "### Step 6: Compare the p-value with $\\alpha$"
      ],
      "metadata": {
        "id": "CXM_Bz61VNMV"
      },
      "id": "CXM_Bz61VNMV"
    },
    {
      "cell_type": "code",
      "source": [
        "# print the conclusion based on p-value\n",
        "if p_value < 0.05:\n",
        "    print(f'As the p-value {p_value} is less than the level of significance, we reject the null hypothesis.')\n",
        "else:\n",
        "    print(f'As the p-value {p_value} is greater than the level of significance, we fail to reject the null hypothesis.')"
      ],
      "metadata": {
        "colab": {
          "base_uri": "https://localhost:8080/"
        },
        "id": "LrbDVEPIVOxd",
        "outputId": "4a921089-e85e-4e49-e1b4-27c6e7abd50e"
      },
      "id": "LrbDVEPIVOxd",
      "execution_count": 90,
      "outputs": [
        {
          "output_type": "stream",
          "name": "stdout",
          "text": [
            "As the p-value 0.21298887487543447 is greater than the level of significance, we fail to reject the null hypothesis.\n"
          ]
        }
      ]
    },
    {
      "cell_type": "markdown",
      "source": [
        "### Step 7:  Draw inference\n",
        "As the p-value (~0.21) is greater than the level of significance ($\\alpha = 0.05$), we **fail to reject the null hypothesis**. Hence, we can conclude that there is not enough evidence to suggest a relationship between the conversion and preferred language variables. In other words, the data suggests that **the conversion status and preferred language are independent of each other.**"
      ],
      "metadata": {
        "id": "pnZT88GSVRuM"
      },
      "id": "pnZT88GSVRuM"
    },
    {
      "cell_type": "markdown",
      "metadata": {
        "id": "8d585a90"
      },
      "source": [
        "## 4. Is the time spent on the new page same for the different language users?"
      ],
      "id": "8d585a90"
    },
    {
      "cell_type": "markdown",
      "source": [
        "### Perform Visual Analysis"
      ],
      "metadata": {
        "id": "gNZq6amEYo09"
      },
      "id": "gNZq6amEYo09"
    },
    {
      "cell_type": "code",
      "source": [
        "# create a new DataFrame for users who got served the new page\n",
        "df_new = df[df['landing_page'] == 'new']\n",
        "\n",
        "# set the color palette\n",
        "palette = 'pastel'\n",
        "\n",
        "# create the boxplot\n",
        "plt.figure(figsize=(8,8))\n",
        "sns.boxplot(x='language_preferred', y='time_spent_on_the_page', showmeans=True, data=df_new, palette=palette)\n",
        "plt.show()"
      ],
      "metadata": {
        "colab": {
          "base_uri": "https://localhost:8080/",
          "height": 696
        },
        "id": "g64HnPscYsu-",
        "outputId": "8d695e8a-c2e4-4dc6-98fa-304241962b31"
      },
      "id": "g64HnPscYsu-",
      "execution_count": 91,
      "outputs": [
        {
          "output_type": "display_data",
          "data": {
            "text/plain": [
              "<Figure size 800x800 with 1 Axes>"
            ],
            "image/png": "[encoded data removed]"
          },
          "metadata": {}
        }
      ]
    },
    {
      "cell_type": "markdown",
      "source": [
        "Based on the above box plot, it seems that the means of time spent on the page for English, Spanish, and French users are relatively close to each other. To confirm this, we will conduct a test below."
      ],
      "metadata": {
        "id": "RL1KkxTsDhDF"
      },
      "id": "RL1KkxTsDhDF"
    },
    {
      "cell_type": "code",
      "source": [
        "df_new.groupby(['language_preferred'])['time_spent_on_the_page'].mean()"
      ],
      "metadata": {
        "colab": {
          "base_uri": "https://localhost:8080/"
        },
        "id": "VCdHhEkcZSC4",
        "outputId": "07550e19-b7d0-4749-aae4-415fef0194b4"
      },
      "id": "VCdHhEkcZSC4",
      "execution_count": 92,
      "outputs": [
        {
          "output_type": "execute_result",
          "data": {
            "text/plain": [
              "language_preferred\n",
              "English    6.663750\n",
              "French     6.196471\n",
              "Spanish    5.835294\n",
              "Name: time_spent_on_the_page, dtype: float64"
            ]
          },
          "metadata": {},
          "execution_count": 92
        }
      ]
    },
    {
      "cell_type": "markdown",
      "source": [
        "### Step 1: Define the null and alternate hypotheses"
      ],
      "metadata": {
        "id": "V9BeGpVsZaE2"
      },
      "id": "V9BeGpVsZaE2"
    },
    {
      "cell_type": "markdown",
      "source": [
        "Let $\\mu_1, \\mu_2, \\mu_3$ be the means of time spent on the page for users who prefer English, French and Spanish respectively.\n",
        "\n",
        "We will test the null hypothesis\n",
        "\n",
        ">$H_0: \\mu_1 = \\mu_2 = \\mu_3$\n",
        "\n",
        "against the alternative hypothesis\n",
        "\n",
        ">$H_a: $ At least one preferred language's users' time spent on the page is different from the rest."
      ],
      "metadata": {
        "id": "7-SlGNNraNVV"
      },
      "id": "7-SlGNNraNVV"
    },
    {
      "cell_type": "markdown",
      "source": [
        "### Step 2: Select Appropriate test"
      ],
      "metadata": {
        "id": "-rRmfLjJZzBg"
      },
      "id": "-rRmfLjJZzBg"
    },
    {
      "cell_type": "markdown",
      "source": [
        "This is a problem concerning three population means. We will use the **Shapiro-Wilk's test** to check if the 'time_spent_on_the_page' variable follows a normal distribution and use the **Levene's test** to check the homogeneity of variances. If we can satisfy these assumption, we will use the **one way ANNOVA F-Test** to compare the three population means."
      ],
      "metadata": {
        "id": "e2EOQeLdZ1ke"
      },
      "id": "e2EOQeLdZ1ke"
    },
    {
      "cell_type": "markdown",
      "source": [
        "### Shapiro-Wilk’s test"
      ],
      "metadata": {
        "id": "x7bE8_5NbgrO"
      },
      "id": "x7bE8_5NbgrO"
    },
    {
      "cell_type": "markdown",
      "source": [
        "We will test the null hypothesis\n",
        "\n",
        ">$H_0:$ Time spent on the page follows a normal distribution\n",
        "\n",
        "against the alternative hypothesis\n",
        "\n",
        ">$H_a:$ Time spent on the page does not follow a normal distribution"
      ],
      "metadata": {
        "id": "iDidCqWObjaO"
      },
      "id": "iDidCqWObjaO"
    },
    {
      "cell_type": "code",
      "source": [
        "# Assumption 1: Normality\n",
        "# import the required function\n",
        "from scipy import stats\n",
        "\n",
        "# find the p-value\n",
        "w, p_value = stats.shapiro(df['time_spent_on_the_page']) \n",
        "print('The p-value is', p_value)"
      ],
      "metadata": {
        "colab": {
          "base_uri": "https://localhost:8080/"
        },
        "id": "EcUUTb6ra1JN",
        "outputId": "24451f45-96da-4f57-f8d4-b547f561d0e2"
      },
      "id": "EcUUTb6ra1JN",
      "execution_count": 93,
      "outputs": [
        {
          "output_type": "stream",
          "name": "stdout",
          "text": [
            "The p-value is 0.5643193125724792\n"
          ]
        }
      ]
    },
    {
      "cell_type": "markdown",
      "source": [
        "Since p-value of the test is very large, we fail to reject the null hypothesis that the response follows the normal distribution."
      ],
      "metadata": {
        "id": "DRcxhLH4btkv"
      },
      "id": "DRcxhLH4btkv"
    },
    {
      "cell_type": "markdown",
      "source": [
        "### Levene’s test"
      ],
      "metadata": {
        "id": "x2VYTakrb1I-"
      },
      "id": "x2VYTakrb1I-"
    },
    {
      "cell_type": "markdown",
      "source": [
        "We will test the null hypothesis\n",
        "\n",
        ">$H_0$: All the population variances are equal\n",
        "\n",
        "against the alternative hypothesis\n",
        "\n",
        ">$H_a$: At least one variance is different from the rest"
      ],
      "metadata": {
        "id": "bHSdyqN5b2uA"
      },
      "id": "bHSdyqN5b2uA"
    },
    {
      "cell_type": "code",
      "source": [
        "#Assumption 2: Homogeneity of Variance\n",
        "#import the required function\n",
        "from scipy.stats import levene\n",
        "statistic, p_value = levene( df['time_spent_on_the_page'][df['language_preferred']==\"English\"], \n",
        "                                   df['time_spent_on_the_page'][df['language_preferred']==\"French\"], \n",
        "                                   df['time_spent_on_the_page'][df['language_preferred']==\"Spanish\"])\n",
        "# find the p-value\n",
        "print('The p-value is', p_value)"
      ],
      "metadata": {
        "colab": {
          "base_uri": "https://localhost:8080/"
        },
        "id": "EognYUfub_Cu",
        "outputId": "3e572a36-0b72-4eaf-f7cc-97c3423ed7af"
      },
      "id": "EognYUfub_Cu",
      "execution_count": 94,
      "outputs": [
        {
          "output_type": "stream",
          "name": "stdout",
          "text": [
            "The p-value is 0.06515086840327314\n"
          ]
        }
      ]
    },
    {
      "cell_type": "markdown",
      "source": [
        "Since the p-value is large, we fail to reject the null hypothesis of homogeneity of variances."
      ],
      "metadata": {
        "id": "QfCbppZ1cRHX"
      },
      "id": "QfCbppZ1cRHX"
    },
    {
      "cell_type": "markdown",
      "source": [
        "### Let's test whether the assumptions are satisfied or not\n",
        "\n",
        "* The populations are normally distributed - Yes, the normality assumption is verified using the Shapiro-Wilk’s test.\n",
        "* Population variances are equal - Yes, the homogeneity of variance assumption is verified using the Levene's test.\n",
        "* Samples are independent simple random samples - Yes, the Data Science team randomly selected 100 users as simple random samples."
      ],
      "metadata": {
        "id": "ywQY5CA-cUqO"
      },
      "id": "ywQY5CA-cUqO"
    },
    {
      "cell_type": "markdown",
      "source": [
        "### Step 3: Decide the significance level"
      ],
      "metadata": {
        "id": "yD-lRkuVcdoP"
      },
      "id": "yD-lRkuVcdoP"
    },
    {
      "cell_type": "markdown",
      "source": [
        "As given in the problem statement, we select α = 0.05."
      ],
      "metadata": {
        "id": "Yk2mNuzRcf22"
      },
      "id": "Yk2mNuzRcf22"
    },
    {
      "cell_type": "markdown",
      "source": [
        "### Step 4: Collect and prepare data"
      ],
      "metadata": {
        "id": "SK_r1ysZch0f"
      },
      "id": "SK_r1ysZch0f"
    },
    {
      "cell_type": "code",
      "source": [
        "# create a subsetted data frame of the time spent on the new page by English language users \n",
        "time_spent_English = df_new[df_new['language_preferred']==\"English\"]['time_spent_on_the_page']\n",
        "time_spent_French = df_new[df_new['language_preferred']==\"French\"]['time_spent_on_the_page']   \n",
        "time_spent_Spanish = df_new[df_new['language_preferred']==\"Spanish\"]['time_spent_on_the_page']   "
      ],
      "metadata": {
        "id": "BMuAheLWcj-O"
      },
      "id": "BMuAheLWcj-O",
      "execution_count": 95,
      "outputs": []
    },
    {
      "cell_type": "markdown",
      "source": [
        "### Step 5: Calculate the p-value"
      ],
      "metadata": {
        "id": "Dr-7i5pYcrQi"
      },
      "id": "Dr-7i5pYcrQi"
    },
    {
      "cell_type": "code",
      "source": [
        "from scipy.stats import f_oneway\n",
        "\n",
        "# calculate the p-value\n",
        "test_stat, p_value = f_oneway(time_spent_English, time_spent_French, time_spent_Spanish)\n",
        "\n",
        "print('The p-value is', p_value)"
      ],
      "metadata": {
        "colab": {
          "base_uri": "https://localhost:8080/"
        },
        "id": "dBG6m48yctP2",
        "outputId": "18174910-a7d4-48c0-fdf5-13ad9f7811cb"
      },
      "id": "dBG6m48yctP2",
      "execution_count": 96,
      "outputs": [
        {
          "output_type": "stream",
          "name": "stdout",
          "text": [
            "The p-value is 0.43204138694325955\n"
          ]
        }
      ]
    },
    {
      "cell_type": "markdown",
      "source": [
        "### Step 6: Compare the p-value with $\\alpha$"
      ],
      "metadata": {
        "id": "etWnrQ97c3H_"
      },
      "id": "etWnrQ97c3H_"
    },
    {
      "cell_type": "code",
      "source": [
        "# print the conclusion based on p-value\n",
        "if p_value < 0.05:\n",
        "    print(f'As the p-value {p_value} is less than the level of significance, we reject the null hypothesis.')\n",
        "else:\n",
        "    print(f'As the p-value {p_value} is greater than the level of significance, we fail to reject the null hypothesis.')"
      ],
      "metadata": {
        "colab": {
          "base_uri": "https://localhost:8080/"
        },
        "id": "ZZscxiUWc403",
        "outputId": "f6188528-f256-4a45-a579-6a276e2e1934"
      },
      "id": "ZZscxiUWc403",
      "execution_count": 97,
      "outputs": [
        {
          "output_type": "stream",
          "name": "stdout",
          "text": [
            "As the p-value 0.43204138694325955 is greater than the level of significance, we fail to reject the null hypothesis.\n"
          ]
        }
      ]
    },
    {
      "cell_type": "markdown",
      "source": [
        "### Step 7:  Draw inference"
      ],
      "metadata": {
        "id": "n56JjX2lc7mx"
      },
      "id": "n56JjX2lc7mx"
    },
    {
      "cell_type": "markdown",
      "source": [
        "As the p-value (~0.43) is greater than the level of significance ($\\alpha = 0.05$), we **fail to reject the null hypothesis**. Hence, we can conclude that there is not enough evidence to suggest the mean time spent on the new page is different for at least one language user. In other words, the data suggests that **the mean time spent on the new page is the same for all language users.**"
      ],
      "metadata": {
        "id": "kFNRCnGUc_13"
      },
      "id": "kFNRCnGUc_13"
    },
    {
      "cell_type": "markdown",
      "metadata": {
        "id": "3acbc947"
      },
      "source": [
        "## Conclusion and Business Recommendations"
      ],
      "id": "3acbc947"
    },
    {
      "cell_type": "markdown",
      "metadata": {
        "id": "21fb1063"
      },
      "source": [
        "####Conclusion\n",
        "-  We randomly selected 100 users and divided them equally into two groups. The existing landing page was served to the first group (control group) and the new landing page to the second group (treatment group). From the sample data, we observed that\n",
        "  - approximately 68% of users spent between 3.88 - 7.02 minutes on the page, with some spending more or less time.\n",
        "  - The conversion rate of the news portal, which refers to the proportion of users who become subscribers, is 54%.\n",
        "  - people who spent more time (around 5.5 - 7 minutes) on page tend to be converted to a subscriber. On the other hand, people who spent less time (around 2.3 - 4.5 minutes) on page tend to be not converted to a subscriber.\n",
        "  - the median time spent on the page for all three language groups (English, French, and Spanish) is relatively similar, with English having the highest median time and French having the lowest median time.\n",
        "\n",
        "- Based on our observations andd testing results, we can conclude that the new landing page can attract users to spend more time on the page and the conversion rate is greater than before.\n",
        "\n",
        "  - As the p-value (~0.00013) is much less than the level of significance ($\\alpha = 0.05$), we do have enough evidence to support the claim that users spend more time on the new landing page than the old landing page.\n",
        "\n",
        "  - As the p-value (~0.016) is less than the level of significance ($\\alpha = 0.05$), we do have enough evidence to support the claim that the conversion rate for the new page is greater than the conversion rate for the old page.\n",
        "\n",
        "- There is not enough statistical evidence to show that language with affect the time spent on the page and the conversion rate.\n",
        "\n",
        "  - As the p-value (~0.21) is greater than the level of significance ($\\alpha = 0.05$), we can conclude that there is not enough evidence to suggest a relationship between the conversion and preferred language variables. In other words, the data suggests that the conversion status and preferred language are independent of each other.\n",
        "\n",
        "  - As the p-value (~0.43) is greater than the level of significance ($\\alpha = 0.05$), we can conclude that there is not enough evidence to suggest the mean time spent on the new page is different for at least one language user. In other words, the data suggests that the mean time spent on the new page is the same for all language users.\n",
        "\n",
        "####Business Recommendations\n",
        "- Implementing the new landing page\n",
        "  - Implement the new landing page as it attracts users to spend more time on the page and the conversion rate is greater than before.\n",
        "- Monitoring and analyzing user behavior\n",
        "  - Continue to monitor the time spent on the page and the conversion rate to identify any changes or trends that may arise over time.\n",
        "  - Consider conducting further studies to identify the factors that influence conversion rates and time spent on the page, such as user demographics, interests, or other aspects of the user experience.\n",
        "  - Consider obtaining user feedback on the new landing page. This will provide valuable insights into what users like and dislike about the new page, and can help identify areas for improvement.\n",
        "- Improving the user experience\n",
        "  - Focus on improving the overall user experience on the landing page, including page load speed, ease of navigation, and readability of content. This can help improve user engagement and conversion rates.\n",
        "  - With the increasing use of mobile devices, it is important to ensure that the landing page is optimized for mobile users. This can include using responsive design, optimizing images, and minimizing page load times.\n",
        "- Language-specific strategies\n",
        "  - Since language does not appear to have an impact on the time spent on the page and the conversion rate, there may not be a need to develop language-specific pages or marketing campaigns. However, it may be worthwhile to continue to monitor user preferences and adjust strategies as needed.\n",
        "\n",
        "\n",
        "\n",
        "\n"
      ],
      "id": "21fb1063"
    },
    {
      "cell_type": "markdown",
      "source": [
        "___"
      ],
      "metadata": {
        "id": "U0dAd4i0iCHo"
      },
      "id": "U0dAd4i0iCHo"
    }
  ]
}